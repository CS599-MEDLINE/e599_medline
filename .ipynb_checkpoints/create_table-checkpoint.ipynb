{
 "cells": [
  {
   "cell_type": "markdown",
   "metadata": {},
   "source": [
    "CSCI E-599 Management of DynamoDB database called `demographics`\n",
    "=====\n",
    "\n",
    "\n",
    "Dave Dowey\n",
    "===\n",
    "\n",
    "\n",
    "---\n",
    "\n",
    "\n",
    "![xkcd_penguins](https://imgs.xkcd.com/comics/march_of_the_penguins.png)\n",
    "\n",
    "\n",
    "<a id='back-to-top'></a>\n",
    "\n",
    "### [*Creation of the database*](#creation)\n",
    "- [Creation of the dynamodb table called `demographics`](#create_table)\n",
    "- [Batch populate the table with `batch_write_item`](#batch_from_web)   \n",
    "- [Populate the table from JSON](#populate_from_json)  \n",
    "\n",
    "\n",
    "\n",
    "### [*Manage the database*](#management)\n",
    "- [Inquire about the table](#describe_table)\n",
    "- [Update with new attributes](#update_attributes)\n",
    "- [Put item into the table](#put_item)\n",
    "- [Query the total number of items](#query_number_items)\n",
    "- [Delete the table](#delete_table)\n",
    "\n",
    "\n",
    "### [*Metadata table for `demographics`*](#metadata)\n",
    "- [Creation of the metadata table called `demographics_meta`](#create_meta)\n",
    "- [Populate the table with new metadata items](#populate_meta)   \n",
    "- [Query the attributes](#query_meta)\n",
    "- [Delete the metadata table](#delete_meta)\n",
    "\n",
    "\n",
    "-------"
   ]
  },
  {
   "cell_type": "markdown",
   "metadata": {},
   "source": [
    "### Preliminaries - libraries to load"
   ]
  },
  {
   "cell_type": "code",
   "execution_count": 41,
   "metadata": {},
   "outputs": [],
   "source": [
    "import os\n",
    "import sys\n",
    "os.environ[\"TZ\"]=\"UTC\"\n",
    "import time\n",
    "import boto3\n",
    "\n",
    "from datetime import datetime\n",
    "import bs4 as bs\n",
    "import json\n",
    "import decimal\n",
    "import glob\n",
    "\n",
    "import numpy as np\n",
    "import pandas as pd\n",
    "from pprint import pprint"
   ]
  },
  {
   "cell_type": "code",
   "execution_count": 2,
   "metadata": {},
   "outputs": [
    {
     "data": {
      "text/html": [
       "\n",
       "<style>\n",
       "\n",
       "div.cell { \n",
       "    margin-top:1em;\n",
       "    margin-bottom:1em;\n",
       "}\n",
       "\n",
       "div.text_cell_render h1 {\n",
       "    font-size: 1.8em;\n",
       "    line-height:1.2em;\n",
       "    text-align:center;\n",
       "}\n",
       "\n",
       "div.text_cell_render h2 {\n",
       "margin-bottom: -0.2em;\n",
       "}\n",
       "\n",
       "table tbody tr td:first-child, \n",
       "table tbody tr th:first-child, \n",
       "table thead tr th:first-child, \n",
       "table tbody tr td:nth-child(4), \n",
       "table thead tr th:nth-child(4) {\n",
       "    background-color: #edf4e8;\n",
       "}\n",
       "\n",
       "div.text_cell_render { \n",
       "    font-family: 'Garamond';\n",
       "    font-size:1.4em;\n",
       "    line-height:1.3em;\n",
       "    padding-left:3em;\n",
       "    padding-right:3em;\n",
       "}\n",
       "\n",
       "div#notebook-container    { width: 95%; }\n",
       "div#menubar-container     { width: 65%; }\n",
       "div#maintoolbar-container { width: 99%; }\n",
       "\n",
       "</style>\n"
      ],
      "text/plain": [
       "<IPython.core.display.HTML object>"
      ]
     },
     "execution_count": 2,
     "metadata": {},
     "output_type": "execute_result"
    }
   ],
   "source": [
    "## Markdown CSS\n",
    "from IPython.core.display import HTML\n",
    "HTML(\"\"\"\n",
    "<style>\n",
    "\n",
    "div.cell { \n",
    "    margin-top:1em;\n",
    "    margin-bottom:1em;\n",
    "}\n",
    "\n",
    "div.text_cell_render h1 {\n",
    "    font-size: 1.8em;\n",
    "    line-height:1.2em;\n",
    "    text-align:center;\n",
    "}\n",
    "\n",
    "div.text_cell_render h2 {\n",
    "margin-bottom: -0.2em;\n",
    "}\n",
    "\n",
    "table tbody tr td:first-child, \n",
    "table tbody tr th:first-child, \n",
    "table thead tr th:first-child, \n",
    "table tbody tr td:nth-child(4), \n",
    "table thead tr th:nth-child(4) {\n",
    "    background-color: #edf4e8;\n",
    "}\n",
    "\n",
    "div.text_cell_render { \n",
    "    font-family: 'Garamond';\n",
    "    font-size:1.4em;\n",
    "    line-height:1.3em;\n",
    "    padding-left:3em;\n",
    "    padding-right:3em;\n",
    "}\n",
    "\n",
    "div#notebook-container    { width: 95%; }\n",
    "div#menubar-container     { width: 65%; }\n",
    "div#maintoolbar-container { width: 99%; }\n",
    "\n",
    "</style>\n",
    "\"\"\")"
   ]
  },
  {
   "cell_type": "markdown",
   "metadata": {},
   "source": [
    "[back-to-top](#back-to-top)\n",
    "<a id='creation'></a>\n",
    "\n",
    "*Creation of the database*  \n",
    "====="
   ]
  },
  {
   "cell_type": "markdown",
   "metadata": {},
   "source": [
    "\n",
    "<a id='create_table'></a>\n",
    "\n",
    "\n",
    "Create the dynamodb table called `demographics`\n",
    "----\n"
   ]
  },
  {
   "cell_type": "code",
   "execution_count": 24,
   "metadata": {},
   "outputs": [
    {
     "name": "stdout",
     "output_type": "stream",
     "text": [
      "Table status: CREATING\n",
      "Item count: 0\n"
     ]
    }
   ],
   "source": [
    "dynamodb_client = boto3.client('dynamodb', region_name='us-east-1')\n",
    "\n",
    "try:\n",
    "    table = dynamodb_client.create_table(\n",
    "        TableName='demographics',\n",
    "        KeySchema=[\n",
    "            {\n",
    "                'AttributeName': 'pmcid', \n",
    "                'KeyType': 'HASH'\n",
    "            },\n",
    "            {\n",
    "                'AttributeName': 'pmid',\n",
    "                'KeyType': 'RANGE' \n",
    "            }\n",
    "        ], \n",
    "        AttributeDefinitions=[\n",
    "            {\n",
    "                'AttributeName': 'pmcid', \n",
    "                'AttributeType': 'S'\n",
    "            },\n",
    "            {\n",
    "                'AttributeName': 'pmid',\n",
    "                'AttributeType': 'S'\n",
    "            },\n",
    "\n",
    "        ], \n",
    "        ProvisionedThroughput={\n",
    "            'ReadCapacityUnits': 10, \n",
    "            'WriteCapacityUnits': 10\n",
    "        }\n",
    "    )\n",
    "\n",
    "    dynamodb_client.get_waiter('table_exists').wait(TableName='demographics')\n",
    "    print(\"Table status:\",  table['TableDescription']['TableStatus'])\n",
    "    print(\"Item count:\", table['TableDescription']['ItemCount'])\n",
    "    \n",
    "except dynamodb_client.exceptions.ResourceInUseException:\n",
    "    print(\"Table in use error - do you really want to recreate the table?\")\n",
    "    pass\n",
    "except OSError as err:\n",
    "    print(\"OS error: {0}\".format(err))\n",
    "except ValueError:\n",
    "    print(\"Could not convert data to an integer.\")\n",
    "except:\n",
    "    print(\"Unexpected error:\", sys.exc_info()[0])\n",
    "    raise"
   ]
  },
  {
   "cell_type": "markdown",
   "metadata": {},
   "source": [
    "[back-to-top](#back-to-top)\n",
    "<a id='batch_from_web'></a>\n",
    "\n",
    "\n",
    "Batch populate the table with `batch_write_item`\n",
    "------\n",
    "\n",
    "----\n"
   ]
  },
  {
   "cell_type": "markdown",
   "metadata": {},
   "source": [
    "### `batch_write_item` from the XML files in a folder"
   ]
  },
  {
   "cell_type": "code",
   "execution_count": null,
   "metadata": {},
   "outputs": [],
   "source": [
    "item_count = 0\n",
    "itemset_array = []\n",
    "now = datetime.now().strftime(\"%Y-%m-%d\")\n",
    "file_path = '/home/dave/datapubmed/targetarticles/'\n",
    "\n",
    "client = boto3.client('dynamodb')\n",
    "\n",
    "file_list = glob.glob(file_path + 'PMC*.nxml')\n",
    "#choice = np.random.randint(10000, size=1000)\n",
    "for f in range(len(file_list)): \n",
    "#for f in choice: \n",
    "    item_count += 1\n",
    "    tree = read_xml(file_list[f])\n",
    "    if tree is not None:\n",
    "        dict_article_meta = parse_article_meta(tree)\n",
    "        pmid = dict_article_meta['pmid'];# print (pmid)\n",
    "        if (pmid == ''):\n",
    "            pmid = 'PMID missing'\n",
    "        pmc = dict_article_meta['pmc']; #print (pmc)\n",
    "        \n",
    "        tree_title = tree.find('//title-group/article-title')\n",
    "        if tree_title is not None:\n",
    "            title = [t for t in tree_title.itertext()]\n",
    "            sub_title = tree.xpath('//title-group/subtitle/text()')\n",
    "            title.extend(sub_title)\n",
    "            title = [t.replace('\\n', ' ').replace('\\t', ' ') for t in title]\n",
    "            if len(title):\n",
    "                full_title = ' '.join(title)\n",
    "            else:\n",
    "                full_title = 'Title missing'\n",
    "        else:\n",
    "            full_title = 'Title missing'\n",
    "            \n",
    "        item_dict = {\n",
    "            \"PutRequest\": {\n",
    "                \"Item\": {\n",
    "                    \"pmcid\": {\"S\": pmc},\n",
    "                    \"pmid\": {\"S\": pmid},\n",
    "                    \"date_processed\": {\"S\": now},\n",
    "                    \"title\": {\"S\": full_title},\n",
    "                }\n",
    "            }\n",
    "        }\n",
    "\n",
    "        itemset_array.append(item_dict)\n",
    "        \n",
    "    if (item_count % 25 == 0):\n",
    "        response = client.batch_write_item(RequestItems={ \"demographics\": itemset_array})\n",
    "        itemset_array = []\n",
    "    #if (item_count % 10000 == 0):\n",
    "    #    print (\"The item_count is: %s \" % item_count)"
   ]
  },
  {
   "cell_type": "markdown",
   "metadata": {},
   "source": [
    "### Create a JSON file with the same `batch_write_item` input"
   ]
  },
  {
   "cell_type": "code",
   "execution_count": null,
   "metadata": {},
   "outputs": [],
   "source": [
    "item_count = 0\n",
    "itemset_array = []\n",
    "now = datetime.now().strftime(\"%Y-%m-%d\")\n",
    "\n",
    "file_path = '/home/dave/datapubmed/targetarticles/'\n",
    "\n",
    "client = boto3.client('dynamodb')\n",
    "\n",
    "file_list = glob.glob(file_path + 'PMC*.nxml')\n",
    "\n",
    "for f in range(len(file_list)): \n",
    "\n",
    "    tree = read_xml(file_list[f])\n",
    "    if tree is not None:\n",
    "        dict_article_meta = parse_article_meta(tree)\n",
    "        pmid = dict_article_meta['pmid'];# print (pmid)\n",
    "        if pmid == '':\n",
    "            pmid = 'PMID missing'\n",
    "        pmc = dict_article_meta['pmc']; #print (pmc)\n",
    "        \n",
    "        tree_title = tree.find('//title-group/article-title')\n",
    "        if tree_title is not None:\n",
    "            title = [t for t in tree_title.itertext()]\n",
    "            sub_title = tree.xpath('//title-group/subtitle/text()')\n",
    "            title.extend(sub_title)\n",
    "            title = [t.replace('\\n', ' ').replace('\\t', ' ') for t in title]\n",
    "            if len(title):\n",
    "                full_title = ' '.join(title)\n",
    "            else:\n",
    "                full_title = 'Title missing'\n",
    "        else:\n",
    "            full_title = 'Title missing'\n",
    "            \n",
    "        item_dict = {\n",
    "            \"PutRequest\": {\n",
    "                \"Item\": {\n",
    "                    \"pmcid\": {\"S\": pmc},\n",
    "                    \"pmid\": {\"S\": pmid},\n",
    "                    \"date_processed\": {\"S\": now},\n",
    "                    \"title\": {\"S\": full_title},\n",
    "                }\n",
    "            }\n",
    "        }\n",
    "\n",
    "        itemset_array.append(item_dict)\n",
    "output_dict = { \"demographics\": itemset_array}"
   ]
  },
  {
   "cell_type": "markdown",
   "metadata": {},
   "source": [
    "### Dump the JSON file to disk"
   ]
  },
  {
   "cell_type": "code",
   "execution_count": null,
   "metadata": {},
   "outputs": [],
   "source": [
    "jsondata = json.dumps(output_dict)\n",
    "f = open(\"output_dict.json\",\"w\")\n",
    "f.write(jsondata)\n",
    "f.close()"
   ]
  },
  {
   "cell_type": "markdown",
   "metadata": {},
   "source": [
    "### Create a JSON file with the list of PMCIDs in the demographics JSON file created above"
   ]
  },
  {
   "cell_type": "code",
   "execution_count": null,
   "metadata": {},
   "outputs": [],
   "source": [
    "#print([d['PutRequest']['Item']['pmcid']['S']  for d in output_dict['demographics']]) \n",
    "\n",
    "PMCIDs_in_demographics = [d['PutRequest']['Item']['pmcid']['S']  for d in output_dict['demographics']]\n",
    "jsondata = json.dumps(pmcid_in_demographics)\n",
    "f = open(\"PMCIDs_in_demographics.json\",\"w\")\n",
    "f.write(jsondata)\n",
    "f.close()"
   ]
  },
  {
   "cell_type": "markdown",
   "metadata": {},
   "source": [
    "### Check the distribution of the contents of the `output_dict` dict"
   ]
  },
  {
   "cell_type": "code",
   "execution_count": null,
   "metadata": {},
   "outputs": [],
   "source": [
    "pprint(Counter( [d['PutRequest']['Item']['pmcid']['S']  for d in output_dict['demographics']]).most_common(40))\n",
    "pprint(Counter( [d['PutRequest']['Item']['pmid']['S']  for d in output_dict['demographics']]).most_common(40))\n",
    "pprint(Counter( [d['PutRequest']['Item']['date_processed']['S']  for d in output_dict['demographics']]).most_common(40))\n",
    "pprint(Counter( [d['PutRequest']['Item']['title']['S']  for d in output_dict['demographics']]).most_common(40))"
   ]
  },
  {
   "cell_type": "markdown",
   "metadata": {},
   "source": [
    "[back-to-top](#back-to-top)\n",
    "<a id='populate_from_json'></a>\n",
    "\n",
    "\n",
    "Populate the table from JSON\n",
    "------\n",
    "\n",
    "\n",
    "----\n"
   ]
  },
  {
   "cell_type": "markdown",
   "metadata": {},
   "source": [
    "### Fix the missing PMIDs in the table - these are missing in the XML files"
   ]
  },
  {
   "cell_type": "code",
   "execution_count": null,
   "metadata": {},
   "outputs": [],
   "source": [
    "openaccess_df = pd.read_csv('oa_file_list.csv')\n",
    "print(openaccess_df.shape)\n",
    "\n",
    "openaccess_df['PMCID'] = openaccess_df['Accession ID'].str[3:]\n",
    "print(openaccess_df.count(axis=0))\n",
    "openaccess_df.head()"
   ]
  },
  {
   "cell_type": "code",
   "execution_count": null,
   "metadata": {},
   "outputs": [],
   "source": [
    "demographics_in_oa = openaccess_df[openaccess_df['PMCID'].isin(PMCIDs_in_demographics)]\n",
    "print(len(demographics_in_oa))\n",
    "print(demographics_in_oa[:10])\n",
    "demographics_in_oa = demographics_in_oa.set_index('PMCID')\n",
    "demographics_in_oa.head()"
   ]
  },
  {
   "cell_type": "code",
   "execution_count": null,
   "metadata": {},
   "outputs": [],
   "source": [
    "missing_pmid = []\n",
    "for d in output_dict['demographics']:\n",
    "    mykey = d['PutRequest']['Item']['pmcid']['S']\n",
    "    if (d['PutRequest']['Item']['pmid']['S'] == ''):\n",
    "        missing_pmid.append(mykey)\n",
    "        d['PutRequest']['Item']['pmid']['S'] = str(int(demographics_in_oa['PMID'].loc[mykey]))\n",
    "        \n",
    "print(len(missing_pmid))\n",
    "print(missing_pmid[:10])"
   ]
  },
  {
   "cell_type": "code",
   "execution_count": null,
   "metadata": {},
   "outputs": [],
   "source": [
    "for mykey in missing_pmid:\n",
    "    print(int(demographics_in_oa['PMID'].loc[mykey]))"
   ]
  },
  {
   "cell_type": "code",
   "execution_count": null,
   "metadata": {},
   "outputs": [],
   "source": [
    "resource = boto3.resource('dynamodb')\n",
    "table = resource.Table('demographics')\n",
    "\n",
    "for i in range(len(missing_pmid)):\n",
    "    mykey = missing_pmid[i]\n",
    "\n",
    "    table.update_item(\n",
    "        Key={'pmcid': mykey},\n",
    "        UpdateExpression=\"set pmid = :s\",\n",
    "        ExpressionAttributeValues={\n",
    "            ':s': str(int(demographics_in_oa['PMID'].loc[mykey]))\n",
    "        },\n",
    "    )"
   ]
  },
  {
   "cell_type": "markdown",
   "metadata": {},
   "source": [
    "### Create a JSON file with the table items from the `output_dict.json` file "
   ]
  },
  {
   "cell_type": "code",
   "execution_count": 27,
   "metadata": {},
   "outputs": [],
   "source": [
    "# In PutRequest style\n",
    "demographic_json = []\n",
    "for d in output_dict['demographics']:\n",
    "    itemdict = {\n",
    "        \"pmcid\": {\"S\": str(d['PutRequest']['Item']['pmid']['S'])},\n",
    "        \"pmid\":  {\"S\": str(d['PutRequest']['Item']['pmcid']['S'])},\n",
    "        \"date_processed\":  {\"S\": str(d['PutRequest']['Item']['date_processed']['S'])},\n",
    "        \"title\":  {\"S\": unidecode(d['PutRequest']['Item']['title']['S'])}\n",
    "        }\n",
    "    demographic_json.append(itemdict)"
   ]
  },
  {
   "cell_type": "code",
   "execution_count": null,
   "metadata": {},
   "outputs": [],
   "source": [
    "# In normal put style\n",
    "now = datetime.now().strftime(\"%Y-%m-%d\")\n",
    "demographic_json = []\n",
    "for d in output_dict['demographics']:\n",
    "    itemdict = {\n",
    "        \"pmcid\": str(d['PutRequest']['Item']['pmcid']['S']),\n",
    "        \"pmid\":  str(d['PutRequest']['Item']['pmid']['S']),\n",
    "        \"date_processed\":  str(now),\n",
    "        \"title\":  unidecode(d['PutRequest']['Item']['title']['S'])\n",
    "        }\n",
    "    demographic_json.append(itemdict)"
   ]
  },
  {
   "cell_type": "code",
   "execution_count": null,
   "metadata": {},
   "outputs": [],
   "source": [
    "jsondata = json.dumps(demographic_json)\n",
    "f = open(\"demographic_json.json\",\"w\")\n",
    "f.write(jsondata)\n",
    "f.close()\n",
    "\n",
    "#f = open('demographic_json.json')\n",
    "#request_items = json.loads(f.read())"
   ]
  },
  {
   "cell_type": "markdown",
   "metadata": {},
   "source": [
    "### Batch put from the JSON object\n",
    "\n",
    "#### *This is what has populated the current table*"
   ]
  },
  {
   "cell_type": "code",
   "execution_count": null,
   "metadata": {},
   "outputs": [],
   "source": [
    "dynamodb_resource = boto3.resource('dynamodb', region_name='us-east-1')\n",
    "table = dynamodb_resource.Table('demographics')\n",
    "\n",
    "with table.batch_writer() as batch:\n",
    "    for i in range(len(demographic_json)):\n",
    "        batch.put_item(\n",
    "            Item=demographic_json[i]\n",
    "        )\n",
    "        if (i % 1000 == 0):\n",
    "            print (\"The item_count is: %s \" % (i))"
   ]
  },
  {
   "cell_type": "markdown",
   "metadata": {},
   "source": [
    "### Normal  put from the JSON object"
   ]
  },
  {
   "cell_type": "code",
   "execution_count": null,
   "metadata": {},
   "outputs": [],
   "source": [
    "dynamodb_resource = boto3.resource('dynamodb', region_name='us-east-1')\n",
    "table = dynamodb_resource.Table('demographics')\n",
    "\n",
    "for i in range(len(demographic_json)):\n",
    "    table.put_item(\n",
    "        Item=demographic_json[i]\n",
    "    )\n",
    "#    if (i % 10 == 0):\n",
    "#        print (\"The item_count is: %s \" % (i))"
   ]
  },
  {
   "cell_type": "markdown",
   "metadata": {},
   "source": [
    "### Normal  put from a JSON file"
   ]
  },
  {
   "cell_type": "code",
   "execution_count": null,
   "metadata": {},
   "outputs": [],
   "source": [
    "dynamodb_resource = boto3.resource('dynamodb', region_name='us-east-1')\n",
    "input_file = \"demographic_json.json\"\n",
    "\n",
    "try:\n",
    "    table = dynamodb_resource.Table('demographics')\n",
    "    print(\"Instantiate a table: \",table.creation_date_time)\n",
    "    print(\"Ready to load data\\n\")\n",
    "    incr = 0\n",
    "    with open(input_file) as json_file:\n",
    "        itemset = json.load(json_file, parse_float = decimal.Decimal)\n",
    "        for item in itemset:\n",
    "            incr += 1\n",
    "            #pmcid = item['pmcid']\n",
    "            #title = item['title']\n",
    "            #date_processed = item['date_processed']\n",
    "            #print(\"Adding record # \", incr,\" pmcid: \",pmcid,\" title: \",title,)\n",
    "            #if (incr % 10000 == 0):\n",
    "            #    print(\"Adding record # \", incr)\n",
    "            table.put_item(\n",
    "               Item={\n",
    "                   'pmcid': item,\n",
    "                   #'pmcid': pmcid,\n",
    "                   #'title': title,\n",
    "                   #'date_processed': date_processed,\n",
    "                }\n",
    "            )\n",
    "            \n",
    "except dynamodb_client.exceptions.ResourceNotFoundException:\n",
    "    print(\"Table does not exist - cannot delete it\")\n",
    "    pass            \n",
    "except OSError as err:\n",
    "    print(\"OS error: {0}\".format(err))\n",
    "except ValueError:\n",
    "    print(\"Could not convert data to an integer.\")\n",
    "except:\n",
    "    print(\"Unexpected error:\", sys.exc_info()[0])\n",
    "    raise"
   ]
  },
  {
   "cell_type": "markdown",
   "metadata": {},
   "source": [
    "[back-to-top](#back-to-top)\n",
    "<a id='management'></a>\n",
    "\n",
    "*Manage the database*  \n",
    "====="
   ]
  },
  {
   "cell_type": "markdown",
   "metadata": {},
   "source": [
    "<a id='describe_table'></a>\n",
    "\n",
    "Inquire about the table\n",
    "------\n",
    "\n",
    "----\n"
   ]
  },
  {
   "cell_type": "code",
   "execution_count": 36,
   "metadata": {},
   "outputs": [
    {
     "name": "stdout",
     "output_type": "stream",
     "text": [
      "{'ResponseMetadata': {'HTTPHeaders': {'connection': 'keep-alive',\n",
      "                                      'content-length': '572',\n",
      "                                      'content-type': 'application/x-amz-json-1.0',\n",
      "                                      'date': 'Mon, 09 Apr 2018 20:29:51 GMT',\n",
      "                                      'server': 'Server',\n",
      "                                      'x-amz-crc32': '3345078066',\n",
      "                                      'x-amzn-requestid': '0LT9U92U7PT3G947US2P38GG2VVV4KQNSO5AEMVJF66Q9ASUAAJG'},\n",
      "                      'HTTPStatusCode': 200,\n",
      "                      'RequestId': '0LT9U92U7PT3G947US2P38GG2VVV4KQNSO5AEMVJF66Q9ASUAAJG',\n",
      "                      'RetryAttempts': 0},\n",
      " 'Table': {'AttributeDefinitions': [{'AttributeName': 'pmcid',\n",
      "                                     'AttributeType': 'S'}],\n",
      "           'CreationDateTime': datetime.datetime(2018, 4, 7, 19, 9, 36, 304000, tzinfo=tzlocal()),\n",
      "           'ItemCount': 294019,\n",
      "           'KeySchema': [{'AttributeName': 'pmcid', 'KeyType': 'HASH'}],\n",
      "           'ProvisionedThroughput': {'LastDecreaseDateTime': datetime.datetime(2018, 4, 8, 11, 8, 58, 372000, tzinfo=tzlocal()),\n",
      "                                     'LastIncreaseDateTime': datetime.datetime(2018, 4, 8, 11, 9, 24, 298000, tzinfo=tzlocal()),\n",
      "                                     'NumberOfDecreasesToday': 0,\n",
      "                                     'ReadCapacityUnits': 50,\n",
      "                                     'WriteCapacityUnits': 50},\n",
      "           'TableArn': 'arn:aws:dynamodb:us-east-1:627238834174:table/demographics',\n",
      "           'TableId': 'f685852e-8872-4d10-9510-ad47a14322f6',\n",
      "           'TableName': 'demographics',\n",
      "           'TableSizeBytes': 105658874,\n",
      "           'TableStatus': 'ACTIVE'}}\n"
     ]
    }
   ],
   "source": [
    "dynamodb_client = boto3.client('dynamodb')\n",
    "\n",
    "try:\n",
    "    response = dynamodb_client.describe_table(TableName='demographics')\n",
    "    pprint(response)\n",
    "    \n",
    "except dynamodb_client.exceptions.ResourceNotFoundException:\n",
    "    print(\"Table does not exist - cannot describe it\")\n",
    "    pass"
   ]
  },
  {
   "cell_type": "code",
   "execution_count": 37,
   "metadata": {},
   "outputs": [
    {
     "name": "stdout",
     "output_type": "stream",
     "text": [
      "{'bytes_size': 105658874,\n",
      " 'global_secondary_indices': None,\n",
      " 'num_items': 294019,\n",
      " 'primary_key_name': {'AttributeName': 'pmcid', 'KeyType': 'HASH'},\n",
      " 'status': 'ACTIVE'}\n"
     ]
    }
   ],
   "source": [
    "dynamodb_resource = boto3.resource('dynamodb', region_name='us-east-1')\n",
    "table = dynamodb_resource.Table('demographics')\n",
    "\n",
    "def get_table_metadata(table_name):\n",
    "    \"\"\"\n",
    "    Get some metadata about chosen table.\n",
    "    \"\"\"\n",
    "    table = dynamodb_resource.Table(table_name)\n",
    "\n",
    "    return {\n",
    "        'num_items': table.item_count,\n",
    "        'primary_key_name': table.key_schema[0],\n",
    "        'status': table.table_status,\n",
    "        'bytes_size': table.table_size_bytes,\n",
    "        'global_secondary_indices': table.global_secondary_indexes\n",
    "    }\n",
    "\n",
    "demographics_metata = get_table_metadata('demographics')\n",
    "pprint(demographics_metata)"
   ]
  },
  {
   "cell_type": "markdown",
   "metadata": {},
   "source": [
    "[back-to-top](#back-to-top)\n",
    "<a id='update_attributes'></a>\n",
    "\n",
    "\n",
    "Update with new attributes\n",
    "------\n",
    "\n",
    "----\n"
   ]
  },
  {
   "cell_type": "markdown",
   "metadata": {},
   "source": [
    " ### Update an entire dict item from loaded JSON object of input attributes input_json"
   ]
  },
  {
   "cell_type": "code",
   "execution_count": null,
   "metadata": {},
   "outputs": [],
   "source": [
    "# Update from loaded JSON object of input attributes input_json\n",
    "\n",
    "responses = []\n",
    "dynamodb_resource = resource('dynamodb', region_name='us-east-1')\n",
    "table = dynamodb_resource.Table('demographics')\n",
    "\n",
    "for i in range(len(input_json)):\n",
    "    #mykey = input_json[i]['pmcid']\n",
    "\n",
    "    table.update_item(Item=input_json[i])\n",
    "       \n",
    "#    if (i % 10000 == 0):\n",
    "#        print (\"The item_count is: %s \" % (i))"
   ]
  },
  {
   "cell_type": "code",
   "execution_count": null,
   "metadata": {},
   "outputs": [],
   "source": [
    "# Update one attribute from loaded JSON object of input attributes input_json\n",
    "\n",
    "responses = []\n",
    "dynamodb_resource = resource('dynamodb', region_name='us-east-1')\n",
    "table = dynamodb_resource.Table('demographics')\n",
    "\n",
    "for i in range(len(input_json)):\n",
    "    mykey = input_json[i]['pmcid']\n",
    "\n",
    "    table.update_item(\n",
    "        Key={'pmcid': mykey},\n",
    "        UpdateExpression=\"set pmid = :s\",\n",
    "        ExpressionAttributeValues={\n",
    "            ':s': input_json[i]['pmid']\n",
    "        },\n",
    "    )\n",
    "\n",
    "    #print (\"The item_count is: %s \" % (i))"
   ]
  },
  {
   "cell_type": "markdown",
   "metadata": {},
   "source": [
    "[back-to-top](#back-to-top)\n",
    "<a id='put_item'></a>\n",
    "\n",
    "Put item into the table\n",
    "------\n",
    "\n",
    "----\n"
   ]
  },
  {
   "cell_type": "code",
   "execution_count": null,
   "metadata": {},
   "outputs": [],
   "source": [
    "from boto3 import resource\n",
    "from boto3.dynamodb.conditions import Key\n",
    "\n",
    "# The boto3 dynamoDB resource\n",
    "dynamodb_resource = resource('dynamodb', region_name='us-east-1')\n",
    "table = dynamodb_resource.Table('demographics')\n",
    "\n",
    "def read_table_item(table_name, pk_name, pk_value):\n",
    "    \"\"\"\n",
    "    Return item read by primary key.\n",
    "    \"\"\"\n",
    "    table = dynamodb_resource.Table(table_name)\n",
    "    response = table.get_item(Key={pk_name: pk_value})\n",
    "\n",
    "    return response\n",
    "\n",
    "def add_item(table_name, col_dict):\n",
    "    \"\"\"\n",
    "    Add one item (row) to table. col_dict is a dictionary {col_name: value}.\n",
    "    \"\"\"\n",
    "    table = dynamodb_resource.Table(table_name)\n",
    "    response = table.put_item(Item=col_dict)\n",
    "\n",
    "    return response\n",
    "\n",
    "def delete_item(table_name, pk_name, pk_value):\n",
    "    \"\"\"\n",
    "    Delete an item (row) in table from its primary key.\n",
    "    \"\"\"\n",
    "    table = dynamodb_resource.Table(table_name)\n",
    "    response = table.delete_item(Key={pk_name: pk_value})\n",
    "\n",
    "    return"
   ]
  },
  {
   "cell_type": "markdown",
   "metadata": {},
   "source": [
    "### Get an item from the table"
   ]
  },
  {
   "cell_type": "code",
   "execution_count": 38,
   "metadata": {},
   "outputs": [
    {
     "name": "stdout",
     "output_type": "stream",
     "text": [
      "{'Item': {'date_processed': '2018-04-07',\n",
      "          'pmcid': '2064904',\n",
      "          'pmid': '17883851',\n",
      "          'sentences': [{'section': 'Sample size',\n",
      "                         'text': 'A sample of 100 subjects in each group would '\n",
      "                                 'demonstrate an increase in this \"mainly '\n",
      "                                 'breastfeeding\" rate from 46% (control group) '\n",
      "                                 'to 67% (intervention group) with alpha '\n",
      "                                 '[confidence level] = 0.05 and power of 80%.'},\n",
      "                        {'section': 'Background',\n",
      "                         'text': 'At the fifty-fifth World Health Assembly, '\n",
      "                                 'the World Health Organization (WHO) '\n",
      "                                 'recommended that optimal infant nutrition '\n",
      "                                 'was exclusive breastfeeding for the first '\n",
      "                                 'six months of life, followed by the '\n",
      "                                 'introduction of nutritionally adequate and '\n",
      "                                 'safe complementary feeding with continued '\n",
      "                                 'breastfeeding for up to the age of two years '\n",
      "                                 'or beyond [1].'},\n",
      "                        {'section': 'Background',\n",
      "                         'text': 'During 1996/1997, an international '\n",
      "                                 'comparative study of child care practices at '\n",
      "                                 'three months of age, involving 21 centres in '\n",
      "                                 '17 countries, showed that Hong Kong had the '\n",
      "                                 'lowest rate of breastfeeding only (4%) and '\n",
      "                                 'the highest rate of infant formula feeding '\n",
      "                                 'only (87%) of all participating centres '\n",
      "                                 '[4].'},\n",
      "                        {'section': 'Discussion',\n",
      "                         'text': 'In an international study of child care '\n",
      "                                 'practices, Scotland like Hong Kong showed '\n",
      "                                 'low rates of breastfeeding only (26%) and '\n",
      "                                 'high rates of infant formula feeding only '\n",
      "                                 '(58%) at three months of age [4].'},\n",
      "                        {'section': 'Randomisation',\n",
      "                         'text': 'In view of the ad hoc visiting schedule of '\n",
      "                                 'the PCs it was decided for recruitment '\n",
      "                                 'purposes to allocate eligible mothers on an '\n",
      "                                 'alternating basis, and subject to bed '\n",
      "                                 'availability, to one of two ward areas: a PC '\n",
      "                                 'ward area or a control ward area.'}],\n",
      "          'title': 'Evaluation of a peer counselling programme to sustain '\n",
      "                   'breastfeeding practice in Hong Kong'},\n",
      " 'ResponseMetadata': {'HTTPHeaders': {'connection': 'keep-alive',\n",
      "                                      'content-length': '1785',\n",
      "                                      'content-type': 'application/x-amz-json-1.0',\n",
      "                                      'date': 'Mon, 09 Apr 2018 20:30:03 GMT',\n",
      "                                      'server': 'Server',\n",
      "                                      'x-amz-crc32': '2380479432',\n",
      "                                      'x-amzn-requestid': 'GO40QSVE6GCR734EK5QILLD69FVV4KQNSO5AEMVJF66Q9ASUAAJG'},\n",
      "                      'HTTPStatusCode': 200,\n",
      "                      'RequestId': 'GO40QSVE6GCR734EK5QILLD69FVV4KQNSO5AEMVJF66Q9ASUAAJG',\n",
      "                      'RetryAttempts': 0}}\n"
     ]
    }
   ],
   "source": [
    "dynamodb_resource = boto3.resource('dynamodb', region_name='us-east-1')\n",
    "table = dynamodb_resource.Table('demographics')\n",
    "pmcidd_list = ['2064904']\n",
    "\n",
    "for i in range(len(pmcidd_list)):\n",
    "\n",
    "    mykey = pmcidd_list[i]\n",
    "    response = table.get_item(Key={'pmcid': mykey})\n",
    "    pprint(response)"
   ]
  },
  {
   "cell_type": "markdown",
   "metadata": {},
   "source": [
    "[back-to-top](#back-to-top)\n",
    "<a id='query_number_items'></a>\n",
    "\n",
    "\n",
    "Query the total number of items\n",
    "----\n"
   ]
  },
  {
   "cell_type": "code",
   "execution_count": 40,
   "metadata": {},
   "outputs": [],
   "source": [
    "dynamodb_resource = boto3.resource('dynamodb', region_name='us-east-1')\n",
    "table = dynamodb_resource.Table('demographics')\n",
    "\n",
    "start_time = time.time()\n",
    "\n",
    "response = table.scan()\n",
    "pmcids_in_demographics = list(map(lambda d: d['pmcid'], response['Items']))\n",
    "\n",
    "while 'LastEvaluatedKey' in response:\n",
    "    response = table.scan(ExclusiveStartKey=response['LastEvaluatedKey'])\n",
    "    pmcids_in_demographics.extend(list(map(lambda d: d['pmcid'], response['Items'])))\n",
    "    \n",
    "\n",
    "elapsed_time = (time.time() - start_time) / 60."
   ]
  },
  {
   "cell_type": "code",
   "execution_count": 39,
   "metadata": {},
   "outputs": [
    {
     "name": "stdout",
     "output_type": "stream",
     "text": [
      "294019\n",
      "2.0219762563705443\n",
      "['2977546', '5651857', '5504832', '4310883', '4906605', '5743172', '5405840', '4785788', '4763193', '3921260', '3554429', '4210062', '4093809', '1785373', '3893583', '3514223', '4061537', '5102273', '5837366', '3809218']\n"
     ]
    }
   ],
   "source": [
    "print(len(pmcids_in_demographics))\n",
    "print (elapsed_time)\n",
    "\n",
    "print(pmcids_in_demographics[:20])"
   ]
  },
  {
   "cell_type": "markdown",
   "metadata": {},
   "source": [
    "[back-to-top](#back-to-top)\n",
    "<a id='delete_table'></a>\n",
    "\n",
    "\n",
    "Delete the `demographics` table\n",
    "----\n"
   ]
  },
  {
   "cell_type": "code",
   "execution_count": 26,
   "metadata": {},
   "outputs": [
    {
     "name": "stdout",
     "output_type": "stream",
     "text": [
      "Deleted table\n"
     ]
    }
   ],
   "source": [
    "dynamodb_client = boto3.client('dynamodb', region_name='us-east-1')\n",
    "\n",
    "try:\n",
    "    dynamodb_client.delete_table(TableName='demographics_alt')\n",
    "    print('Deleted table')\n",
    "        \n",
    "except dynamodb_client.exceptions.ResourceNotFoundException:\n",
    "    print(\"Table does not exist - cannot delete it\")\n",
    "    pass\n",
    "except OSError as err:\n",
    "    print(\"OS error: {0}\".format(err))\n",
    "except ValueError:\n",
    "    print(\"Could not convert data to an integer.\")\n",
    "except:\n",
    "    print(\"Unexpected error:\", sys.exc_info()[0])\n",
    "    raise"
   ]
  },
  {
   "cell_type": "markdown",
   "metadata": {},
   "source": [
    "[back-to-top](#back-to-top)\n",
    "<a id='metadata'></a>\n",
    "\n",
    "*Metadata table  `demographics_meta`*\n",
    "=====\n"
   ]
  },
  {
   "cell_type": "markdown",
   "metadata": {},
   "source": [
    "<a id='create_meta'></a>\n",
    "\n",
    "\n",
    "Creation of the metadata table called `demographics_meta`\n",
    "----\n",
    "\n",
    "-----"
   ]
  },
  {
   "cell_type": "code",
   "execution_count": 42,
   "metadata": {},
   "outputs": [
    {
     "name": "stdout",
     "output_type": "stream",
     "text": [
      "Table status: CREATING\n",
      "Item count: 0\n"
     ]
    }
   ],
   "source": [
    "dynamodb_client = boto3.client('dynamodb', region_name='us-east-1')\n",
    "\n",
    "try:\n",
    "    table = dynamodb_client.create_table(\n",
    "        TableName='demographics_meta',\n",
    "        KeySchema=[\n",
    "            {\n",
    "                'AttributeName': 'source', \n",
    "                'KeyType': 'HASH'\n",
    "            }\n",
    "        ], \n",
    "        AttributeDefinitions=[\n",
    "            {\n",
    "                'AttributeName': 'source', \n",
    "                'AttributeType': 'S'\n",
    "            },\n",
    "        ], \n",
    "        ProvisionedThroughput={\n",
    "            'ReadCapacityUnits': 5, \n",
    "            'WriteCapacityUnits': 5\n",
    "        }\n",
    "    )\n",
    "\n",
    "    dynamodb_client.get_waiter('table_exists').wait(TableName='demographics_meta')\n",
    "    print(\"Table status:\",  table['TableDescription']['TableStatus'])\n",
    "    print(\"Item count:\", table['TableDescription']['ItemCount'])\n",
    "    \n",
    "except dynamodb_client.exceptions.ResourceInUseException:\n",
    "    print(\"Table in use error - do you really want to recreate the table?\")\n",
    "    pass\n",
    "except OSError as err:\n",
    "    print(\"OS error: {0}\".format(err))\n",
    "except ValueError:\n",
    "    print(\"Could not convert data to an integer.\")\n",
    "except:\n",
    "    print(\"Unexpected error:\", sys.exc_info()[0])\n",
    "    raise"
   ]
  },
  {
   "cell_type": "markdown",
   "metadata": {},
   "source": [
    "[back-to-top](#back-to-top)\n",
    "<a id='populate_meta'></a>\n",
    "\n",
    "\n",
    "Populate the table with new metadata items\n",
    "------\n",
    "\n",
    "----\n"
   ]
  },
  {
   "cell_type": "markdown",
   "metadata": {},
   "source": [
    "## Populate from a list in memory"
   ]
  },
  {
   "cell_type": "code",
   "execution_count": 60,
   "metadata": {},
   "outputs": [],
   "source": [
    "dynamodb_client = boto3.client('dynamodb', region_name='us-east-1')\n",
    "now = datetime.now().strftime(\"%Y-%m-%d %H:%M:%S\")\n",
    "small_list_of_ids = pmcids_in_demographics[:20]\n",
    "\n",
    "response = dynamodb_client.put_item(\n",
    "    Item={\n",
    "       'source': {\"S\": \"demographics\"},\n",
    "       'pmcids':{\"NS\": small_list_of_ids},\n",
    "       'items': {\"N\": str(len(small_list_of_ids))},\n",
    "       'date_updated': {\"S\": now} ,\n",
    "    },\n",
    "    TableName='demographics_meta',\n",
    ")"
   ]
  },
  {
   "cell_type": "markdown",
   "metadata": {},
   "source": [
    "## Populate from a list in a JSON file"
   ]
  },
  {
   "cell_type": "code",
   "execution_count": 61,
   "metadata": {},
   "outputs": [],
   "source": [
    "jsondata = json.dumps(small_list_of_ids)\n",
    "f = open(\"small_list_of_ids.json\",\"w\")\n",
    "f.write(jsondata)\n",
    "f.close()"
   ]
  },
  {
   "cell_type": "code",
   "execution_count": 62,
   "metadata": {},
   "outputs": [],
   "source": [
    "dynamodb_client = boto3.client('dynamodb', region_name='us-east-1')\n",
    "now = datetime.now().strftime(\"%Y-%m-%d %H:%M:%S\")\n",
    "#file_path = '/home/dave/datapubmed/'\n",
    "#input_file = file_path + \"inS3BucketIDs.json\"\n",
    "input_file = \"small_list_of_ids.json\"\n",
    "try:\n",
    "    with open(input_file) as json_file:\n",
    "        itemset = json.load(json_file)\n",
    "        response = dynamodb_client.put_item(\n",
    "            Item={\n",
    "               'source': {\"S\": \"saved_json\"},\n",
    "               'pmcids':{\"NS\": itemset},\n",
    "               'items': {\"N\": str(len(itemset))},\n",
    "               'date_updated': {\"S\": now} ,\n",
    "            },\n",
    "            TableName='demographics_meta',\n",
    "        )\n",
    "            \n",
    "except OSError as err:\n",
    "    print(\"OS error: {0}\".format(err))\n",
    "except ValueError:\n",
    "    print(\"Could not convert data to an integer.\")\n",
    "except:\n",
    "    print(\"Unexpected error:\", sys.exc_info()[0])\n",
    "    raise            "
   ]
  },
  {
   "cell_type": "markdown",
   "metadata": {},
   "source": [
    "[back-to-top](#back-to-top)\n",
    "<a id='query_meta'></a>\n",
    "\n",
    "\n",
    "Query the metadata table on attributes\n",
    "------\n",
    "\n",
    "----\n"
   ]
  },
  {
   "cell_type": "code",
   "execution_count": 64,
   "metadata": {},
   "outputs": [
    {
     "name": "stdout",
     "output_type": "stream",
     "text": [
      "{'Item': {'date_updated': '2018-04-09 21:36:15',\n",
      "          'items': Decimal('20'),\n",
      "          'pmcids': {Decimal('1785373'),\n",
      "                     Decimal('2977546'),\n",
      "                     Decimal('3514223'),\n",
      "                     Decimal('3554429'),\n",
      "                     Decimal('3809218'),\n",
      "                     Decimal('3893583'),\n",
      "                     Decimal('3921260'),\n",
      "                     Decimal('4061537'),\n",
      "                     Decimal('4093809'),\n",
      "                     Decimal('4210062'),\n",
      "                     Decimal('4310883'),\n",
      "                     Decimal('4763193'),\n",
      "                     Decimal('4785788'),\n",
      "                     Decimal('4906605'),\n",
      "                     Decimal('5102273'),\n",
      "                     Decimal('5405840'),\n",
      "                     Decimal('5504832'),\n",
      "                     Decimal('5651857'),\n",
      "                     Decimal('5743172'),\n",
      "                     Decimal('5837366')},\n",
      "          'source': 'demographics'},\n",
      " 'ResponseMetadata': {'HTTPHeaders': {'connection': 'keep-alive',\n",
      "                                      'content-length': '320',\n",
      "                                      'content-type': 'application/x-amz-json-1.0',\n",
      "                                      'date': 'Mon, 09 Apr 2018 21:37:43 GMT',\n",
      "                                      'server': 'Server',\n",
      "                                      'x-amz-crc32': '314382140',\n",
      "                                      'x-amzn-requestid': 'V92MAME5NK1VQNENQ6CIVCDJSNVV4KQNSO5AEMVJF66Q9ASUAAJG'},\n",
      "                      'HTTPStatusCode': 200,\n",
      "                      'RequestId': 'V92MAME5NK1VQNENQ6CIVCDJSNVV4KQNSO5AEMVJF66Q9ASUAAJG',\n",
      "                      'RetryAttempts': 0}}\n"
     ]
    }
   ],
   "source": [
    "dynamodb_resource = boto3.resource('dynamodb', region_name='us-east-1')\n",
    "table = dynamodb_resource.Table('demographics_meta')\n",
    "item_list = ['demographics']\n",
    "\n",
    "for i in range(len(item_list)):\n",
    "\n",
    "    mykey = item_list[i]\n",
    "    response = table.get_item(Key={'source': mykey})\n",
    "    pprint(response)"
   ]
  },
  {
   "cell_type": "markdown",
   "metadata": {},
   "source": [
    "[back-to-top](#back-to-top)\n",
    "<a id='delete_meta'></a>\n",
    "\n",
    "\n",
    "Delete the metadata table\n",
    "----\n"
   ]
  },
  {
   "cell_type": "code",
   "execution_count": 26,
   "metadata": {},
   "outputs": [
    {
     "name": "stdout",
     "output_type": "stream",
     "text": [
      "Deleted table\n"
     ]
    }
   ],
   "source": [
    "dynamodb_client = boto3.client('dynamodb', region_name='us-east-1')\n",
    "\n",
    "try:\n",
    "    dynamodb_client.delete_table(TableName='demographics_meta')\n",
    "    print('Deleted table')\n",
    "        \n",
    "except dynamodb_client.exceptions.ResourceNotFoundException:\n",
    "    print(\"Table does not exist - cannot delete it\")\n",
    "    pass\n",
    "except OSError as err:\n",
    "    print(\"OS error: {0}\".format(err))\n",
    "except ValueError:\n",
    "    print(\"Could not convert data to an integer.\")\n",
    "except:\n",
    "    print(\"Unexpected error:\", sys.exc_info()[0])\n",
    "    raise"
   ]
  },
  {
   "cell_type": "code",
   "execution_count": null,
   "metadata": {},
   "outputs": [],
   "source": [
    "%save createtabledemographics.py"
   ]
  },
  {
   "cell_type": "code",
   "execution_count": null,
   "metadata": {},
   "outputs": [],
   "source": [
    "%run createtabledemographics.py"
   ]
  }
 ],
 "metadata": {
  "kernelspec": {
   "display_name": "Python 3",
   "language": "python",
   "name": "python3"
  },
  "language_info": {
   "codemirror_mode": {
    "name": "ipython",
    "version": 3
   },
   "file_extension": ".py",
   "mimetype": "text/x-python",
   "name": "python",
   "nbconvert_exporter": "python",
   "pygments_lexer": "ipython3",
   "version": "3.5.4"
  }
 },
 "nbformat": 4,
 "nbformat_minor": 2
}
