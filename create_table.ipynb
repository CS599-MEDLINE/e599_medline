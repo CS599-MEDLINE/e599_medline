{
 "cells": [
  {
   "cell_type": "markdown",
   "metadata": {},
   "source": [
    "CSCI E-599 Management of DynamoDB database called `demographics`\n",
    "=====\n",
    "\n",
    "\n",
    "---\n",
    "\n",
    "\n",
    "![xkcd_penguins](https://imgs.xkcd.com/comics/march_of_the_penguins.png)\n",
    "\n",
    "\n",
    "<a id='back-to-top'></a>\n",
    "\n",
    "### [*Creation of the database*](#creation)\n",
    "- [Creation of the dynamodb table called `demographics`](#create_table)\n",
    "- [Batch populate the table with `batch_write_item`](#batch_from_web)   \n",
    "- [Populate the table from JSON](#populate_from_json)  \n",
    "\n",
    "\n",
    "\n",
    "### [*Manage the database*](#management)\n",
    "- [Inquire about the table](#describe_table)\n",
    "- [Update with new attributes](#update_attributes)\n",
    "- [Put item into the table](#put_item)\n",
    "- [Query the total number of items](#query_number_items)\n",
    "- [Update the secondary index](#update_table_index)\n",
    "- [Delete the table](#delete_table)\n",
    "\n",
    "\n",
    "### [*Metadata table for `demographics`*](#metadata)\n",
    "- [Creation of the metadata table called `demographics_meta`](#create_meta)\n",
    "- [Populate the table with new metadata items](#populate_meta)   \n",
    "- [Query the attributes](#query_meta)\n",
    "- [Delete the metadata table](#delete_meta)\n",
    "\n",
    "\n",
    "-------"
   ]
  },
  {
   "cell_type": "markdown",
   "metadata": {},
   "source": [
    "### Preliminaries - libraries to load"
   ]
  },
  {
   "cell_type": "code",
   "execution_count": 19,
   "metadata": {
    "collapsed": true
   },
   "outputs": [],
   "source": [
    "import os\n",
    "import sys\n",
    "os.environ[\"TZ\"]=\"UTC\"\n",
    "import time\n",
    "import boto3\n",
    "\n",
    "from boto3 import resource\n",
    "from boto3.dynamodb.conditions import Key\n",
    "\n",
    "from datetime import datetime\n",
    "import bs4 as bs\n",
    "import xml.etree.ElementTree as ET\n",
    "from lxml import etree\n",
    "from lxml import html\n",
    "from unidecode import unidecode\n",
    "from lxml.etree import tostring\n",
    "import json\n",
    "import decimal\n",
    "import glob\n",
    "from collections import Counter\n",
    "\n",
    "import numpy as np\n",
    "import pandas as pd\n",
    "from pprint import pprint"
   ]
  },
  {
   "cell_type": "code",
   "execution_count": 2,
   "metadata": {},
   "outputs": [
    {
     "data": {
      "text/html": [
       "\n",
       "<style>\n",
       "\n",
       "div.cell { \n",
       "    margin-top:1em;\n",
       "    margin-bottom:1em;\n",
       "}\n",
       "\n",
       "div.text_cell_render h1 {\n",
       "    font-size: 1.8em;\n",
       "    line-height:1.2em;\n",
       "    text-align:center;\n",
       "}\n",
       "\n",
       "div.text_cell_render h2 {\n",
       "margin-bottom: -0.2em;\n",
       "}\n",
       "\n",
       "table tbody tr td:first-child, \n",
       "table tbody tr th:first-child, \n",
       "table thead tr th:first-child, \n",
       "table tbody tr td:nth-child(4), \n",
       "table thead tr th:nth-child(4) {\n",
       "    background-color: #edf4e8;\n",
       "}\n",
       "\n",
       "div.text_cell_render { \n",
       "    font-family: 'Garamond';\n",
       "    font-size:1.4em;\n",
       "    line-height:1.3em;\n",
       "    padding-left:3em;\n",
       "    padding-right:3em;\n",
       "}\n",
       "\n",
       "div#notebook-container    { width: 95%; }\n",
       "div#menubar-container     { width: 65%; }\n",
       "div#maintoolbar-container { width: 99%; }\n",
       "\n",
       "</style>\n"
      ],
      "text/plain": [
       "<IPython.core.display.HTML object>"
      ]
     },
     "execution_count": 2,
     "metadata": {},
     "output_type": "execute_result"
    }
   ],
   "source": [
    "## Markdown CSS\n",
    "from IPython.core.display import HTML\n",
    "HTML(\"\"\"\n",
    "<style>\n",
    "\n",
    "div.cell { \n",
    "    margin-top:1em;\n",
    "    margin-bottom:1em;\n",
    "}\n",
    "\n",
    "div.text_cell_render h1 {\n",
    "    font-size: 1.8em;\n",
    "    line-height:1.2em;\n",
    "    text-align:center;\n",
    "}\n",
    "\n",
    "div.text_cell_render h2 {\n",
    "margin-bottom: -0.2em;\n",
    "}\n",
    "\n",
    "table tbody tr td:first-child, \n",
    "table tbody tr th:first-child, \n",
    "table thead tr th:first-child, \n",
    "table tbody tr td:nth-child(4), \n",
    "table thead tr th:nth-child(4) {\n",
    "    background-color: #edf4e8;\n",
    "}\n",
    "\n",
    "div.text_cell_render { \n",
    "    font-family: 'Garamond';\n",
    "    font-size:1.4em;\n",
    "    line-height:1.3em;\n",
    "    padding-left:3em;\n",
    "    padding-right:3em;\n",
    "}\n",
    "\n",
    "div#notebook-container    { width: 95%; }\n",
    "div#menubar-container     { width: 65%; }\n",
    "div#maintoolbar-container { width: 99%; }\n",
    "\n",
    "</style>\n",
    "\"\"\")"
   ]
  },
  {
   "cell_type": "markdown",
   "metadata": {},
   "source": [
    "[back-to-top](#back-to-top)\n",
    "<a id='creation'></a>\n",
    "\n",
    "*Creation of the database*  \n",
    "====="
   ]
  },
  {
   "cell_type": "markdown",
   "metadata": {},
   "source": [
    "\n",
    "<a id='create_table'></a>\n",
    "\n",
    "\n",
    "Create the dynamodb table called `demographics`\n",
    "----\n"
   ]
  },
  {
   "cell_type": "code",
   "execution_count": 9,
   "metadata": {},
   "outputs": [
    {
     "name": "stdout",
     "output_type": "stream",
     "text": [
      "Table status: CREATING\n",
      "Item count: 0\n"
     ]
    }
   ],
   "source": [
    "dynamodb_client = boto3.client('dynamodb', region_name='us-east-1')\n",
    "\n",
    "try:\n",
    "    table = dynamodb_client.create_table(\n",
    "        TableName='demographics_alt',\n",
    "        KeySchema=[\n",
    "            {\n",
    "                'AttributeName': 'pmcid', \n",
    "                'KeyType': 'HASH'\n",
    "            }\n",
    "        ], \n",
    "        AttributeDefinitions=[\n",
    "            {\n",
    "                'AttributeName': 'pmcid', \n",
    "                'AttributeType': 'S'\n",
    "            }\n",
    "        ], \n",
    "        ProvisionedThroughput={\n",
    "            'ReadCapacityUnits': 50, \n",
    "            'WriteCapacityUnits': 50\n",
    "        },\n",
    "        StreamSpecification={\n",
    "        'StreamEnabled': True,\n",
    "        'StreamViewType': 'NEW_AND_OLD_IMAGES'\n",
    "        }\n",
    "    )\n",
    "\n",
    "    dynamodb_client.get_waiter('table_exists').wait(TableName='demographics')\n",
    "    print(\"Table status:\",  table['TableDescription']['TableStatus'])\n",
    "    print(\"Item count:\", table['TableDescription']['ItemCount'])\n",
    "    \n",
    "except dynamodb_client.exceptions.ResourceInUseException:\n",
    "    print(\"Table in use error - do you really want to recreate the table?\")\n",
    "    pass\n",
    "except OSError as err:\n",
    "    print(\"OS error: {0}\".format(err))\n",
    "except ValueError:\n",
    "    print(\"Could not convert data to an integer.\")\n",
    "except:\n",
    "    print(\"Unexpected error:\", sys.exc_info()[0])\n",
    "    raise"
   ]
  },
  {
   "cell_type": "code",
   "execution_count": 65,
   "metadata": {},
   "outputs": [
    {
     "name": "stdout",
     "output_type": "stream",
     "text": [
      "Table status: CREATING\n",
      "Item count: 0\n"
     ]
    }
   ],
   "source": [
    "dynamodb_client = boto3.client('dynamodb', region_name='us-east-1')\n",
    "\n",
    "try:\n",
    "    table = dynamodb_client.create_table(\n",
    "        TableName='demographics',\n",
    "        KeySchema=[\n",
    "            {\n",
    "                'AttributeName': 'pmcid', \n",
    "                'KeyType': 'HASH'\n",
    "            },\n",
    "            {\n",
    "                'AttributeName': 'pmid',\n",
    "                'KeyType': 'RANGE' \n",
    "            }\n",
    "        ], \n",
    "        AttributeDefinitions=[\n",
    "            {\n",
    "                'AttributeName': 'pmcid', \n",
    "                'AttributeType': 'S'\n",
    "            },\n",
    "            {\n",
    "                'AttributeName': 'pmid',\n",
    "                'AttributeType': 'S'\n",
    "            },\n",
    "\n",
    "        ], \n",
    "        ProvisionedThroughput={\n",
    "            'ReadCapacityUnits': 10, \n",
    "            'WriteCapacityUnits': 10\n",
    "        },\n",
    "        StreamSpecification={\n",
    "        'StreamEnabled': True,\n",
    "        'StreamViewType': 'NEW_AND_OLD_IMAGES'\n",
    "        }\n",
    "    )\n",
    "\n",
    "    dynamodb_client.get_waiter('table_exists').wait(TableName='demographics')\n",
    "    print(\"Table status:\",  table['TableDescription']['TableStatus'])\n",
    "    print(\"Item count:\", table['TableDescription']['ItemCount'])\n",
    "    \n",
    "except dynamodb_client.exceptions.ResourceInUseException:\n",
    "    print(\"Table in use error - do you really want to recreate the table?\")\n",
    "    pass\n",
    "except OSError as err:\n",
    "    print(\"OS error: {0}\".format(err))\n",
    "except ValueError:\n",
    "    print(\"Could not convert data to an integer.\")\n",
    "except:\n",
    "    print(\"Unexpected error:\", sys.exc_info()[0])\n",
    "    raise"
   ]
  },
  {
   "cell_type": "markdown",
   "metadata": {},
   "source": [
    "[back-to-top](#back-to-top)\n",
    "<a id='batch_from_web'></a>\n",
    "\n",
    "\n",
    "Batch populate the table with `batch_write_item`\n",
    "------\n",
    "\n",
    "----\n"
   ]
  },
  {
   "cell_type": "markdown",
   "metadata": {},
   "source": [
    "### `batch_write_item` from the XML files in a folder"
   ]
  },
  {
   "cell_type": "code",
   "execution_count": null,
   "metadata": {
    "collapsed": true
   },
   "outputs": [],
   "source": [
    "item_count = 0\n",
    "itemset_array = []\n",
    "now = datetime.now().strftime(\"%Y-%m-%d\")\n",
    "file_path = '/home/dave/datapubmed/targetarticles/'\n",
    "\n",
    "client = boto3.client('dynamodb')\n",
    "\n",
    "file_list = glob.glob(file_path + 'PMC*.nxml')\n",
    "#choice = np.random.randint(10000, size=1000)\n",
    "for f in range(len(file_list)): \n",
    "#for f in choice: \n",
    "    item_count += 1\n",
    "    tree = read_xml(file_list[f])\n",
    "    if tree is not None:\n",
    "        dict_article_meta = parse_article_meta(tree)\n",
    "        pmid = dict_article_meta['pmid'];# print (pmid)\n",
    "        if (pmid == ''):\n",
    "            pmid = 'PMID missing'\n",
    "        pmc = dict_article_meta['pmc']; #print (pmc)\n",
    "        \n",
    "        tree_title = tree.find('//title-group/article-title')\n",
    "        if tree_title is not None:\n",
    "            title = [t for t in tree_title.itertext()]\n",
    "            sub_title = tree.xpath('//title-group/subtitle/text()')\n",
    "            title.extend(sub_title)\n",
    "            title = [t.replace('\\n', ' ').replace('\\t', ' ') for t in title]\n",
    "            if len(title):\n",
    "                full_title = ' '.join(title)\n",
    "            else:\n",
    "                full_title = 'Title missing'\n",
    "        else:\n",
    "            full_title = 'Title missing'\n",
    "            \n",
    "        item_dict = {\n",
    "            \"PutRequest\": {\n",
    "                \"Item\": {\n",
    "                    \"pmcid\": {\"S\": pmc},\n",
    "                    \"pmid\": {\"S\": pmid},\n",
    "                    \"date_processed\": {\"S\": now},\n",
    "                    \"title\": {\"S\": full_title},\n",
    "                }\n",
    "            }\n",
    "        }\n",
    "\n",
    "        itemset_array.append(item_dict)\n",
    "        \n",
    "    if (item_count % 25 == 0):\n",
    "        response = client.batch_write_item(RequestItems={ \"demographics\": itemset_array})\n",
    "        itemset_array = []\n",
    "    #if (item_count % 10000 == 0):\n",
    "    #    print (\"The item_count is: %s \" % item_count)"
   ]
  },
  {
   "cell_type": "markdown",
   "metadata": {},
   "source": [
    "### Create a JSON file with the same `batch_write_item` input"
   ]
  },
  {
   "cell_type": "code",
   "execution_count": 14,
   "metadata": {},
   "outputs": [
    {
     "data": {
      "text/plain": [
       "['/home/dave/datapubmed/targetarticles/PMC4944317.nxml',\n",
       " '/home/dave/datapubmed/targetarticles/PMC4785788.nxml',\n",
       " '/home/dave/datapubmed/targetarticles/PMC4760072.nxml',\n",
       " '/home/dave/datapubmed/targetarticles/PMC4828621.nxml',\n",
       " '/home/dave/datapubmed/targetarticles/PMC4976526.nxml',\n",
       " '/home/dave/datapubmed/targetarticles/PMC2228184.nxml',\n",
       " '/home/dave/datapubmed/targetarticles/PMC3008007.nxml',\n",
       " '/home/dave/datapubmed/targetarticles/PMC2775678.nxml',\n",
       " '/home/dave/datapubmed/targetarticles/PMC5643429.nxml',\n",
       " '/home/dave/datapubmed/targetarticles/PMC4633648.nxml',\n",
       " '/home/dave/datapubmed/targetarticles/PMC4754267.nxml',\n",
       " '/home/dave/datapubmed/targetarticles/PMC5504832.nxml',\n",
       " '/home/dave/datapubmed/targetarticles/PMC3585216.nxml',\n",
       " '/home/dave/datapubmed/targetarticles/PMC5779605.nxml',\n",
       " '/home/dave/datapubmed/targetarticles/PMC5743172.nxml',\n",
       " '/home/dave/datapubmed/targetarticles/PMC5618110.nxml',\n",
       " '/home/dave/datapubmed/targetarticles/PMC4262386.nxml',\n",
       " '/home/dave/datapubmed/targetarticles/PMC2604886.nxml',\n",
       " '/home/dave/datapubmed/targetarticles/PMC5089533.nxml',\n",
       " '/home/dave/datapubmed/targetarticles/PMC5850733.nxml']"
      ]
     },
     "execution_count": 14,
     "metadata": {},
     "output_type": "execute_result"
    }
   ],
   "source": [
    "file_path = '/home/dave/datapubmed/targetarticles/'\n",
    "file_list = []\n",
    "#for pmcid in list_of_new_pmcids:\n",
    "for pmcid in missing:\n",
    "    file_list.append(*glob.glob(file_path + 'PMC'+ pmcid +'.nxml'))\n",
    "file_list[:20]"
   ]
  },
  {
   "cell_type": "code",
   "execution_count": 21,
   "metadata": {
    "collapsed": true
   },
   "outputs": [],
   "source": [
    "def read_xml(path):\n",
    "    \"\"\"\n",
    "    Parse tree from given XML path\n",
    "    \"\"\"\n",
    "    try:\n",
    "        tree = etree.parse(path)\n",
    "    except:\n",
    "        try:\n",
    "            tree = etree.fromstring(path)\n",
    "        except Exception as e:\n",
    "            print(\"Error: it was not able to read a path, a file-like object, or a string as an XML\")\n",
    "            raise\n",
    "    if '.nxml' in path:\n",
    "        remove_namespace(tree) # strip namespace for\n",
    "    return tree\n",
    "\n",
    "def remove_namespace(tree):\n",
    "    \"\"\"\n",
    "    Strip namespace from parsed XML\n",
    "    \"\"\"\n",
    "    for node in tree.iter():\n",
    "        try:\n",
    "            has_namespace = node.tag.startswith('{')\n",
    "        except AttributeError:\n",
    "            continue  # node.tag is not a string (node is a comment or similar)\n",
    "        if has_namespace:\n",
    "            node.tag = node.tag.split('}', 1)[1]\n",
    "            \n",
    "def parse_article_meta(tree):\n",
    "    \"\"\"\n",
    "    Parse PMID, PMC and DOI from given article tree\n",
    "    \"\"\"\n",
    "    article_meta = tree.find('.//article-meta')\n",
    "    pmid_node = article_meta.find('article-id[@pub-id-type=\"pmid\"]')\n",
    "    pmc_node = article_meta.find('article-id[@pub-id-type=\"pmc\"]')\n",
    "    pub_id_node = article_meta.find('article-id[@pub-id-type=\"publisher-id\"]')\n",
    "    doi_node = article_meta.find('article-id[@pub-id-type=\"doi\"]')\n",
    "\n",
    "    pmid = pmid_node.text if pmid_node is not None else ''\n",
    "    pmc = pmc_node.text if pmc_node is not None else ''\n",
    "    pub_id = pub_id_node.text if pub_id_node is not None else ''\n",
    "    doi = doi_node.text if doi_node is not None else ''\n",
    "\n",
    "    dict_article_meta = {'pmid': pmid,\n",
    "                         'pmc': pmc,\n",
    "                         'doi': doi,\n",
    "                         'publisher_id': pub_id}\n",
    "\n",
    "    return dict_article_meta\n",
    "\n",
    "item_count = 0\n",
    "itemset_array = []\n",
    "now = datetime.now().strftime(\"%Y-%m-%d\")\n",
    "\n",
    "#file_path = '/home/dave/datapubmed/targetarticles/'\n",
    "\n",
    "client = boto3.client('dynamodb')\n",
    "\n",
    "#file_list = glob.glob(file_path + 'PMC*.nxml')\n",
    "\n",
    "for f in range(len(file_list)): \n",
    "\n",
    "    tree = read_xml(file_list[f])\n",
    "    if tree is not None:\n",
    "        dict_article_meta = parse_article_meta(tree)\n",
    "        pmid = dict_article_meta['pmid'];# print (pmid)\n",
    "        if pmid == '':\n",
    "            pmid = 'PMID missing'\n",
    "        pmc = dict_article_meta['pmc']; #print (pmc)\n",
    "        \n",
    "        tree_title = tree.find('//title-group/article-title')\n",
    "        if tree_title is not None:\n",
    "            title = [t for t in tree_title.itertext()]\n",
    "            sub_title = tree.xpath('//title-group/subtitle/text()')\n",
    "            title.extend(sub_title)\n",
    "            title = [t.replace('\\n', ' ').replace('\\t', ' ') for t in title]\n",
    "            if len(title):\n",
    "                full_title = ' '.join(title)\n",
    "            else:\n",
    "                full_title = 'Title missing'\n",
    "        else:\n",
    "            full_title = 'Title missing'\n",
    "            \n",
    "        item_dict = {\n",
    "            \"PutRequest\": {\n",
    "                \"Item\": {\n",
    "                    \"pmcid\": {\"S\": pmc},\n",
    "                    \"pmid\": {\"S\": pmid},\n",
    "                    \"date_processed\": {\"S\": now},\n",
    "                    \"title\": {\"S\": full_title},\n",
    "                }\n",
    "            }\n",
    "        }\n",
    "\n",
    "        itemset_array.append(item_dict)\n",
    "output_dict = { \"demographics\": itemset_array}"
   ]
  },
  {
   "cell_type": "markdown",
   "metadata": {},
   "source": [
    "### Dump the JSON file to disk"
   ]
  },
  {
   "cell_type": "code",
   "execution_count": null,
   "metadata": {
    "collapsed": true
   },
   "outputs": [],
   "source": [
    "jsondata = json.dumps(output_dict)\n",
    "f = open(\"output_dict.json\",\"w\")\n",
    "f.write(jsondata)\n",
    "f.close()"
   ]
  },
  {
   "cell_type": "markdown",
   "metadata": {},
   "source": [
    "### Create a JSON file with the list of PMCIDs in the demographics JSON file created above"
   ]
  },
  {
   "cell_type": "code",
   "execution_count": null,
   "metadata": {
    "collapsed": true
   },
   "outputs": [],
   "source": [
    "#print([d['PutRequest']['Item']['pmcid']['S']  for d in output_dict['demographics']]) \n",
    "\n",
    "PMCIDs_in_demographics = [d['PutRequest']['Item']['pmcid']['S']  for d in output_dict['demographics']]\n",
    "jsondata = json.dumps(pmcid_in_demographics)\n",
    "f = open(\"PMCIDs_in_demographics.json\",\"w\")\n",
    "f.write(jsondata)\n",
    "f.close()"
   ]
  },
  {
   "cell_type": "markdown",
   "metadata": {},
   "source": [
    "### Check the distribution of the contents of the `output_dict` dict"
   ]
  },
  {
   "cell_type": "code",
   "execution_count": null,
   "metadata": {
    "collapsed": true
   },
   "outputs": [],
   "source": [
    "pprint(Counter( [d['PutRequest']['Item']['pmcid']['S']  for d in output_dict['demographics']]).most_common(40))\n",
    "pprint(Counter( [d['PutRequest']['Item']['pmid']['S']  for d in output_dict['demographics']]).most_common(40))\n",
    "pprint(Counter( [d['PutRequest']['Item']['date_processed']['S']  for d in output_dict['demographics']]).most_common(40))\n",
    "pprint(Counter( [d['PutRequest']['Item']['title']['S']  for d in output_dict['demographics']]).most_common(40))"
   ]
  },
  {
   "cell_type": "markdown",
   "metadata": {},
   "source": [
    "[back-to-top](#back-to-top)\n",
    "<a id='populate_from_json'></a>\n",
    "\n",
    "\n",
    "Populate the table from JSON\n",
    "------\n",
    "\n",
    "\n",
    "----\n"
   ]
  },
  {
   "cell_type": "markdown",
   "metadata": {},
   "source": [
    "### Fix the missing PMIDs in the table - these are missing in the XML files"
   ]
  },
  {
   "cell_type": "code",
   "execution_count": null,
   "metadata": {
    "collapsed": true
   },
   "outputs": [],
   "source": [
    "openaccess_df = pd.read_csv('oa_file_list.csv')\n",
    "print(openaccess_df.shape)\n",
    "\n",
    "openaccess_df['PMCID'] = openaccess_df['Accession ID'].str[3:]\n",
    "print(openaccess_df.count(axis=0))\n",
    "openaccess_df.head()"
   ]
  },
  {
   "cell_type": "code",
   "execution_count": null,
   "metadata": {
    "collapsed": true
   },
   "outputs": [],
   "source": [
    "demographics_in_oa = openaccess_df[openaccess_df['PMCID'].isin(PMCIDs_in_demographics)]\n",
    "print(len(demographics_in_oa))\n",
    "print(demographics_in_oa[:10])\n",
    "demographics_in_oa = demographics_in_oa.set_index('PMCID')\n",
    "demographics_in_oa.head()"
   ]
  },
  {
   "cell_type": "code",
   "execution_count": null,
   "metadata": {
    "collapsed": true
   },
   "outputs": [],
   "source": [
    "missing_pmid = []\n",
    "for d in output_dict['demographics']:\n",
    "    mykey = d['PutRequest']['Item']['pmcid']['S']\n",
    "    if (d['PutRequest']['Item']['pmid']['S'] == ''):\n",
    "        missing_pmid.append(mykey)\n",
    "        d['PutRequest']['Item']['pmid']['S'] = str(int(demographics_in_oa['PMID'].loc[mykey]))\n",
    "        \n",
    "print(len(missing_pmid))\n",
    "print(missing_pmid[:10])"
   ]
  },
  {
   "cell_type": "code",
   "execution_count": null,
   "metadata": {
    "collapsed": true
   },
   "outputs": [],
   "source": [
    "for mykey in missing_pmid:\n",
    "    print(int(demographics_in_oa['PMID'].loc[mykey]))"
   ]
  },
  {
   "cell_type": "code",
   "execution_count": null,
   "metadata": {
    "collapsed": true
   },
   "outputs": [],
   "source": [
    "resource = boto3.resource('dynamodb')\n",
    "table = resource.Table('demographics')\n",
    "\n",
    "for i in range(len(missing_pmid)):\n",
    "    mykey = missing_pmid[i]\n",
    "\n",
    "    table.update_item(\n",
    "        Key={'pmcid': mykey},\n",
    "        UpdateExpression=\"set pmid = :s\",\n",
    "        ExpressionAttributeValues={\n",
    "            ':s': str(int(demographics_in_oa['PMID'].loc[mykey]))\n",
    "        },\n",
    "    )"
   ]
  },
  {
   "cell_type": "markdown",
   "metadata": {},
   "source": [
    "### Create a JSON file with the table items from the `output_dict.json` file "
   ]
  },
  {
   "cell_type": "code",
   "execution_count": 27,
   "metadata": {
    "collapsed": true
   },
   "outputs": [],
   "source": [
    "# In PutRequest style\n",
    "demographic_json = []\n",
    "for d in output_dict['demographics']:\n",
    "    itemdict = {\n",
    "        \"pmcid\": {\"S\": str(d['PutRequest']['Item']['pmid']['S'])},\n",
    "        \"pmid\":  {\"S\": str(d['PutRequest']['Item']['pmcid']['S'])},\n",
    "        \"date_processed\":  {\"S\": str(d['PutRequest']['Item']['date_processed']['S'])},\n",
    "        \"title\":  {\"S\": unidecode(d['PutRequest']['Item']['title']['S'])}\n",
    "        }\n",
    "    demographic_json.append(itemdict)"
   ]
  },
  {
   "cell_type": "code",
   "execution_count": 23,
   "metadata": {
    "collapsed": true
   },
   "outputs": [],
   "source": [
    "# In normal put style\n",
    "now = datetime.now().strftime(\"%Y-%m-%d\")\n",
    "demographic_json = []\n",
    "for d in output_dict['demographics']:\n",
    "    itemdict = {\n",
    "        \"pmcid\": str(d['PutRequest']['Item']['pmcid']['S']),\n",
    "        \"pmid\":  str(d['PutRequest']['Item']['pmid']['S']),\n",
    "        \"date_processed\":  str(now),\n",
    "        \"title\":  unidecode(d['PutRequest']['Item']['title']['S'])\n",
    "        }\n",
    "    demographic_json.append(itemdict)"
   ]
  },
  {
   "cell_type": "code",
   "execution_count": null,
   "metadata": {
    "collapsed": true
   },
   "outputs": [],
   "source": [
    "jsondata = json.dumps(demographic_json)\n",
    "f = open(\"demographic_json.json\",\"w\")\n",
    "f.write(jsondata)\n",
    "f.close()\n",
    "\n",
    "#f = open('demographic_json.json')\n",
    "#request_items = json.loads(f.read())"
   ]
  },
  {
   "cell_type": "markdown",
   "metadata": {},
   "source": [
    "### Batch put from the JSON object\n",
    "\n",
    "#### *This is what has populated the current table*"
   ]
  },
  {
   "cell_type": "code",
   "execution_count": 24,
   "metadata": {},
   "outputs": [
    {
     "name": "stdout",
     "output_type": "stream",
     "text": [
      "The item_count is: 0 \n"
     ]
    }
   ],
   "source": [
    "dynamodb_resource = boto3.resource('dynamodb', region_name='us-east-1')\n",
    "table = dynamodb_resource.Table('demographics')\n",
    "\n",
    "with table.batch_writer() as batch:\n",
    "    for i in range(len(demographic_json)):\n",
    "        batch.put_item(\n",
    "            Item=demographic_json[i]\n",
    "        )\n",
    "        if (i % 1000 == 0):\n",
    "            print (\"The item_count is: %s \" % (i))"
   ]
  },
  {
   "cell_type": "markdown",
   "metadata": {},
   "source": [
    "### Normal  put from the JSON object"
   ]
  },
  {
   "cell_type": "code",
   "execution_count": null,
   "metadata": {
    "collapsed": true
   },
   "outputs": [],
   "source": [
    "dynamodb_resource = boto3.resource('dynamodb', region_name='us-east-1')\n",
    "table = dynamodb_resource.Table('demographics')\n",
    "\n",
    "for i in range(len(demographic_json)):\n",
    "    table.put_item(\n",
    "        Item=demographic_json[i]\n",
    "    )\n",
    "#    if (i % 10 == 0):\n",
    "#        print (\"The item_count is: %s \" % (i))"
   ]
  },
  {
   "cell_type": "markdown",
   "metadata": {},
   "source": [
    "### Normal  put from a JSON file"
   ]
  },
  {
   "cell_type": "code",
   "execution_count": null,
   "metadata": {
    "collapsed": true
   },
   "outputs": [],
   "source": [
    "dynamodb_resource = boto3.resource('dynamodb', region_name='us-east-1')\n",
    "input_file = \"demographic_json.json\"\n",
    "\n",
    "try:\n",
    "    table = dynamodb_resource.Table('demographics')\n",
    "    print(\"Instantiate a table: \",table.creation_date_time)\n",
    "    print(\"Ready to load data\\n\")\n",
    "    incr = 0\n",
    "    with open(input_file) as json_file:\n",
    "        itemset = json.load(json_file, parse_float = decimal.Decimal)\n",
    "        for item in itemset:\n",
    "            incr += 1\n",
    "            #pmcid = item['pmcid']\n",
    "            #title = item['title']\n",
    "            #date_processed = item['date_processed']\n",
    "            #print(\"Adding record # \", incr,\" pmcid: \",pmcid,\" title: \",title,)\n",
    "            #if (incr % 10000 == 0):\n",
    "            #    print(\"Adding record # \", incr)\n",
    "            table.put_item(\n",
    "               Item={\n",
    "                   'pmcid': item,\n",
    "                   #'pmcid': pmcid,\n",
    "                   #'title': title,\n",
    "                   #'date_processed': date_processed,\n",
    "                }\n",
    "            )\n",
    "            \n",
    "except dynamodb_client.exceptions.ResourceNotFoundException:\n",
    "    print(\"Table does not exist - cannot delete it\")\n",
    "    pass            \n",
    "except OSError as err:\n",
    "    print(\"OS error: {0}\".format(err))\n",
    "except ValueError:\n",
    "    print(\"Could not convert data to an integer.\")\n",
    "except:\n",
    "    print(\"Unexpected error:\", sys.exc_info()[0])\n",
    "    raise"
   ]
  },
  {
   "cell_type": "markdown",
   "metadata": {},
   "source": [
    "[back-to-top](#back-to-top)\n",
    "<a id='management'></a>\n",
    "\n",
    "*Manage the database*  \n",
    "====="
   ]
  },
  {
   "cell_type": "markdown",
   "metadata": {},
   "source": [
    "<a id='describe_table'></a>\n",
    "\n",
    "Inquire about the table\n",
    "------\n",
    "\n",
    "----\n"
   ]
  },
  {
   "cell_type": "code",
   "execution_count": null,
   "metadata": {
    "collapsed": true
   },
   "outputs": [],
   "source": [
    "dynamodb_client = boto3.client('dynamodb')\n",
    "\n",
    "try:\n",
    "    response = dynamodb_client.describe_table(TableName='demographics')\n",
    "    pprint(response)\n",
    "    \n",
    "except dynamodb_client.exceptions.ResourceNotFoundException:\n",
    "    print(\"Table does not exist - cannot describe it\")\n",
    "    pass"
   ]
  },
  {
   "cell_type": "code",
   "execution_count": 26,
   "metadata": {},
   "outputs": [
    {
     "name": "stdout",
     "output_type": "stream",
     "text": [
      "{'bytes_size': 677169553,\n",
      " 'global_secondary_indices': None,\n",
      " 'num_items': 297786,\n",
      " 'primary_key_name': {'AttributeName': 'pmcid', 'KeyType': 'HASH'},\n",
      " 'status': 'ACTIVE'}\n"
     ]
    }
   ],
   "source": [
    "dynamodb_resource = boto3.resource('dynamodb', region_name='us-east-1')\n",
    "table = dynamodb_resource.Table('demographics')\n",
    "\n",
    "def get_table_metadata(table_name):\n",
    "    \"\"\"\n",
    "    Get some metadata about chosen table.\n",
    "    \"\"\"\n",
    "    table = dynamodb_resource.Table(table_name)\n",
    "\n",
    "    return {\n",
    "        'num_items': table.item_count,\n",
    "        'primary_key_name': table.key_schema[0],\n",
    "        'status': table.table_status,\n",
    "        'bytes_size': table.table_size_bytes,\n",
    "        'global_secondary_indices': table.global_secondary_indexes\n",
    "    }\n",
    "\n",
    "demographics_metata = get_table_metadata('demographics')\n",
    "pprint(demographics_metata)"
   ]
  },
  {
   "cell_type": "markdown",
   "metadata": {},
   "source": [
    "[back-to-top](#back-to-top)\n",
    "<a id='update_attributes'></a>\n",
    "\n",
    "\n",
    "Update with new attributes\n",
    "------\n",
    "\n",
    "----\n"
   ]
  },
  {
   "cell_type": "markdown",
   "metadata": {},
   "source": [
    "### Remove an attribute from an item\n"
   ]
  },
  {
   "cell_type": "code",
   "execution_count": 105,
   "metadata": {},
   "outputs": [
    {
     "name": "stdout",
     "output_type": "stream",
     "text": [
      "3326\n",
      "3324\n"
     ]
    }
   ],
   "source": [
    "f = open('missing_update3004.json')\n",
    "missing = json.loads(f.read())\n",
    "f.close()\n",
    "print(len(missing))\n",
    "\n",
    "missing.remove('5885332')\n",
    "missing.remove('5819069')\n",
    "print(len(missing))"
   ]
  },
  {
   "cell_type": "code",
   "execution_count": 106,
   "metadata": {
    "collapsed": true
   },
   "outputs": [],
   "source": [
    "# Update from loaded JSON object of input attributes input_json\n",
    "\n",
    "dynamodb_client = boto3.client('dynamodb', region_name='us-east-1')\n",
    "\n",
    "for pmcid in missing:\n",
    "\n",
    "    dynamodb_client.update_item(\n",
    "        TableName = 'demographics',\n",
    "        Key = {'pmcid': {'S': pmcid}},\n",
    "        AttributeUpdates={\n",
    "        'errorStatus': {'Action': 'DELETE'}\n",
    "        }\n",
    "    )"
   ]
  },
  {
   "cell_type": "markdown",
   "metadata": {},
   "source": [
    " ### Update an entire dict item from loaded JSON object of input attributes input_json"
   ]
  },
  {
   "cell_type": "code",
   "execution_count": null,
   "metadata": {
    "collapsed": true
   },
   "outputs": [],
   "source": [
    "# Update from loaded JSON object of input attributes input_json\n",
    "\n",
    "responses = []\n",
    "dynamodb_resource = boto3.resource('dynamodb', region_name='us-east-1')\n",
    "table = dynamodb_resource.Table('demographics')\n",
    "\n",
    "for i in range(len(input_json)):\n",
    "    #mykey = input_json[i]['pmcid']\n",
    "\n",
    "    table.update_item(Item=input_json[i])\n",
    "       \n",
    "#    if (i % 10000 == 0):\n",
    "#        print (\"The item_count is: %s \" % (i))"
   ]
  },
  {
   "cell_type": "markdown",
   "metadata": {},
   "source": [
    "### Update some titles in the dynamodb, from a list of PMCID in a JSON file\n",
    "### First create an array containing the updated titles"
   ]
  },
  {
   "cell_type": "code",
   "execution_count": 25,
   "metadata": {},
   "outputs": [
    {
     "name": "stdout",
     "output_type": "stream",
     "text": [
      "5769429\n",
      "Effects of three frequencies of self-monitored blood glucose on HbA1c and quality of life in patients with type 2 diabetes with once daily insulin and stable control: a randomized trial\n",
      "2734346\n",
      "Vitamin B12 status in patients of Turkish and Dutch descent with depression: a comparative cross-sectional study\n",
      "5788687\n",
      "Chemoradiotherapy in combination with radical surgery is associated with better outcome in cervical cancer patients\n",
      "5667482\n",
      "Antibiotic perturbation of mixed-strain Pseudomonas aeruginosa infection in patients with cystic fibrosis\n",
      "3831254\n",
      "Atovaquone-proguanil in the treatment of imported uncomplicated Plasmodium falciparum malaria: a prospective observational study of 553 cases\n"
     ]
    }
   ],
   "source": [
    "f = open(\"trunk_tables.json\",\"r\")\n",
    "input_json = json.loads(f.read())\n",
    "f.close()\n",
    "\n",
    "update_title = []\n",
    "for d in input_json[:5]:\n",
    "    pmcid = d['Item']['pmcid']\n",
    "    i += 1\n",
    "    fpath = glob.glob('/home/dave/datapubmed/targetarticles/PMC'+pmcid+'.nxml')\n",
    "    fh = open(fpath[0],'r')\n",
    "    soup = bs.BeautifulSoup(fh,'lxml')\n",
    "    #print(soup)\n",
    "    title = soup.find(\"article-title\").get_text()\n",
    "    \n",
    "    print(pmcid)\n",
    "    print(title)\n",
    "    \n",
    "    update_title.append({'Item': {'pmcid': pmcid, 'title': str(title)} })"
   ]
  },
  {
   "cell_type": "markdown",
   "metadata": {},
   "source": [
    "### Then update the item in the dynamodb table"
   ]
  },
  {
   "cell_type": "code",
   "execution_count": 26,
   "metadata": {
    "collapsed": true
   },
   "outputs": [],
   "source": [
    "# Update one attribute from loaded JSON object of input attributes input_json\n",
    "from boto3.dynamodb.conditions import Key\n",
    "\n",
    "responses = []\n",
    "dynamodb_resource = boto3.resource('dynamodb', region_name='us-east-1')\n",
    "table = dynamodb_resource.Table('demographics')\n",
    "\n",
    "for i in range(len(update_title)):\n",
    "    mykey = update_title[i]['Item']['pmcid']\n",
    "    \n",
    "    response = table.update_item(\n",
    "        Key={'pmcid': mykey},\n",
    "        UpdateExpression=\"set title = :s\",\n",
    "        ExpressionAttributeValues={\n",
    "            ':s': update_title[i]['Item']['title']\n",
    "        },\n",
    "        ReturnValues=\"UPDATED_NEW\"\n",
    "    )\n",
    "    responses.append(response)"
   ]
  },
  {
   "cell_type": "markdown",
   "metadata": {},
   "source": [
    "### Update the item with the table1 string that comes from an external JSON file"
   ]
  },
  {
   "cell_type": "code",
   "execution_count": 32,
   "metadata": {
    "collapsed": true
   },
   "outputs": [],
   "source": [
    "# Update one attribute from loaded JSON object of input attributes input_json\n",
    "from boto3.dynamodb.conditions import Key\n",
    "\n",
    "responses = []\n",
    "dynamodb_resource = boto3.resource('dynamodb', region_name='us-east-1')\n",
    "table = dynamodb_resource.Table('demographics')\n",
    "\n",
    "f = open(\"trunk_tables.json\",\"r\")\n",
    "input_json = json.loads(f.read())\n",
    "f.close()\n",
    "\n",
    "for i in range(len(input_json)):\n",
    "    mykey = input_json[i]['Item']['pmcid']\n",
    "    \n",
    "    response = table.update_item(\n",
    "        Key={'pmcid': mykey},\n",
    "        UpdateExpression=\"set table1 = :s\",\n",
    "        ExpressionAttributeValues={\n",
    "            ':s': input_json[i]['Item']['table']\n",
    "        },\n",
    "        ReturnValues=\"UPDATED_NEW\"\n",
    "    )\n",
    "    #responses.append(response)"
   ]
  },
  {
   "cell_type": "code",
   "execution_count": 19,
   "metadata": {
    "collapsed": true
   },
   "outputs": [],
   "source": [
    "'''\n",
    "jsondata = json.dumps(responses)\n",
    "f = open(\"update_tables_responses.json\",\"w\")\n",
    "f.write(jsondata)\n",
    "f.close()\n",
    "'''"
   ]
  },
  {
   "cell_type": "markdown",
   "metadata": {},
   "source": [
    "[back-to-top](#back-to-top)\n",
    "<a id='put_item'></a>\n",
    "\n",
    "Put item into the table\n",
    "------\n",
    "\n",
    "----"
   ]
  },
  {
   "cell_type": "code",
   "execution_count": 125,
   "metadata": {
    "collapsed": true
   },
   "outputs": [],
   "source": [
    "from boto3 import resource\n",
    "from boto3.dynamodb.conditions import Key\n",
    "\n",
    "# The boto3 dynamoDB resource\n",
    "dynamodb_resource = boto3.resource('dynamodb', region_name='us-east-1')\n",
    "table = dynamodb_resource.Table('demographics')\n",
    "\n",
    "def read_table_item(table_name, pk_name, pk_value):\n",
    "    \"\"\"\n",
    "    Return item read by primary key.\n",
    "    \"\"\"\n",
    "    table = dynamodb_resource.Table(table_name)\n",
    "    response = table.get_item(Key={pk_name: pk_value})\n",
    "\n",
    "    return response\n",
    "\n",
    "def add_item(table_name, col_dict):\n",
    "    \"\"\"\n",
    "    Add one item (row) to table. col_dict is a dictionary {col_name: value}.\n",
    "    \"\"\"\n",
    "    table = dynamodb_resource.Table(table_name)\n",
    "    response = table.put_item(Item=col_dict)\n",
    "\n",
    "    return response\n",
    "\n",
    "def delete_item(table_name, pk_name, pk_value):\n",
    "    \"\"\"\n",
    "    Delete an item (row) in table from its primary key.\n",
    "    \"\"\"\n",
    "    table = dynamodb_resource.Table(table_name)\n",
    "    response = table.delete_item(Key={pk_name: pk_value})\n",
    "\n",
    "    return"
   ]
  },
  {
   "cell_type": "code",
   "execution_count": 141,
   "metadata": {},
   "outputs": [
    {
     "name": "stdout",
     "output_type": "stream",
     "text": [
      "{'pmcid': '2842548', 'pmid': '20119873', 'date_processed': '2018-05-06'}\n"
     ]
    }
   ],
   "source": [
    "response = read_table_item('demographics', 'pmcid', '2842548')[\"Item\"]\n",
    "print(response)"
   ]
  },
  {
   "cell_type": "code",
   "execution_count": 137,
   "metadata": {},
   "outputs": [
    {
     "data": {
      "text/plain": [
       "{'ResponseMetadata': {'HTTPHeaders': {'connection': 'keep-alive',\n",
       "   'content-length': '2',\n",
       "   'content-type': 'application/x-amz-json-1.0',\n",
       "   'date': 'Sun, 06 May 2018 13:15:58 GMT',\n",
       "   'server': 'Server',\n",
       "   'x-amz-crc32': '2745614147',\n",
       "   'x-amzn-requestid': '4IOB7UJGQH6VVHF04EA7EKVRVNVV4KQNSO5AEMVJF66Q9ASUAAJG'},\n",
       "  'HTTPStatusCode': 200,\n",
       "  'RequestId': '4IOB7UJGQH6VVHF04EA7EKVRVNVV4KQNSO5AEMVJF66Q9ASUAAJG',\n",
       "  'RetryAttempts': 0}}"
      ]
     },
     "execution_count": 137,
     "metadata": {},
     "output_type": "execute_result"
    }
   ],
   "source": [
    "table = dynamodb_resource.Table('demographics')\n",
    "table.delete_item(Key={'pmcid': '2842549'})"
   ]
  },
  {
   "cell_type": "code",
   "execution_count": 146,
   "metadata": {},
   "outputs": [
    {
     "name": "stdout",
     "output_type": "stream",
     "text": [
      "PMCID not in database - OK\n",
      "Delete PMCID finished\n"
     ]
    }
   ],
   "source": [
    "try:\n",
    "    table = dynamodb_resource.Table('demographics')\n",
    "    response = table.get_item(Key={'pmcid': '2842548'})[\"Item\"]\n",
    "except KeyError:\n",
    "    print(\"PMCID not in database - OK\")\n",
    "else: \n",
    "    print(\"Deleting unavailable PMCID from database\")\n",
    "    response = table.delete_item(Key={'pmcid': '2842548'})\n",
    "    print(response)\n",
    "finally:\n",
    "    print(\"Delete PMCID finished\")"
   ]
  },
  {
   "cell_type": "code",
   "execution_count": 90,
   "metadata": {
    "collapsed": true
   },
   "outputs": [],
   "source": [
    "from boto3 import resource\n",
    "from boto3.dynamodb.conditions import Key\n",
    "\n",
    "dynamodb_resource = boto3.resource('dynamodb', region_name='us-east-1')\n",
    "table = dynamodb_resource.Table('demographics')\n",
    "\n",
    "new_list = [\"5921293\", \"5921393\", \"5921441\", \"5921537\", \"5921545\", \"5921551\", \"5921555\", \"5921754\", \"5921777\", \"5921784\", \"5921968\", \"5922463\", \"5922473\", \"5922475\", \"5922494\", \"5922512\", \"5922517\", \"5923187\", \"5923189\", \"5923190\", \"5923197\", \"5924454\", \"5924456\", \"5924465\", \"5924469\", \"5924472\", \"5924483\", \"5924485\", \"5924495\", \"5924497\", \"5924498\", \"5924499\", \"5924508\"]\n",
    "\n",
    "for dd in new_list:\n",
    "    delete_item('demographics', 'pmcid', dd)"
   ]
  },
  {
   "cell_type": "markdown",
   "metadata": {},
   "source": [
    "### Get an item from the table"
   ]
  },
  {
   "cell_type": "code",
   "execution_count": 10,
   "metadata": {},
   "outputs": [
    {
     "name": "stdout",
     "output_type": "stream",
     "text": [
      "{'Item': {'date_processed': '2018-04-07',\n",
      "          'errorStatus': 'not randomized clinical trials',\n",
      "          'pmcid': '1513380',\n",
      "          'pmid': '16469109',\n",
      "          'title': 'Evaluation and selection of tandem repeat loci for a  '\n",
      "                   'Brucella  MLVA typing assay'},\n",
      " 'ResponseMetadata': {'HTTPHeaders': {'connection': 'keep-alive',\n",
      "                                      'content-length': '245',\n",
      "                                      'content-type': 'application/x-amz-json-1.0',\n",
      "                                      'date': 'Wed, 18 Apr 2018 16:24:17 GMT',\n",
      "                                      'server': 'Server',\n",
      "                                      'x-amz-crc32': '1511758879',\n",
      "                                      'x-amzn-requestid': '6KP5NMKTIEAIKSSOQ977ISQETRVV4KQNSO5AEMVJF66Q9ASUAAJG'},\n",
      "                      'HTTPStatusCode': 200,\n",
      "                      'RequestId': '6KP5NMKTIEAIKSSOQ977ISQETRVV4KQNSO5AEMVJF66Q9ASUAAJG',\n",
      "                      'RetryAttempts': 0}}\n"
     ]
    }
   ],
   "source": [
    "dynamodb_resource = boto3.resource('dynamodb', region_name='us-east-1')\n",
    "table = dynamodb_resource.Table('demographics')\n",
    "pmcidd_list = ['1513380']\n",
    "\n",
    "for i in range(len(pmcidd_list)):\n",
    "\n",
    "    mykey = pmcidd_list[i]\n",
    "    response = table.get_item(Key={'pmcid': mykey})\n",
    "    pprint(response)"
   ]
  },
  {
   "cell_type": "markdown",
   "metadata": {},
   "source": [
    "[back-to-top](#back-to-top)\n",
    "<a id='query_number_items'></a>\n",
    "\n",
    "\n",
    "Query the total number of items\n",
    "----\n"
   ]
  },
  {
   "cell_type": "code",
   "execution_count": null,
   "metadata": {
    "collapsed": true
   },
   "outputs": [],
   "source": [
    "dynamodb_resource = boto3.resource('dynamodb', region_name='us-east-1')\n",
    "table = dynamodb_resource.Table('demographics')\n",
    "\n",
    "start_time = time.time()\n",
    "\n",
    "response = table.scan()\n",
    "pmcids_in_demographics = list(map(lambda d: d['pmcid'], response['Items']))\n",
    "\n",
    "while 'LastEvaluatedKey' in response:\n",
    "    response = table.scan(ExclusiveStartKey=response['LastEvaluatedKey'])\n",
    "    pmcids_in_demographics.extend(list(map(lambda d: d['pmcid'], response['Items'])))\n",
    "    \n",
    "\n",
    "elapsed_time = (time.time() - start_time) / 60."
   ]
  },
  {
   "cell_type": "code",
   "execution_count": 5,
   "metadata": {},
   "outputs": [
    {
     "name": "stdout",
     "output_type": "stream",
     "text": [
      "297786\n",
      "['5405840', '2891753', '3453493', '3463035', '5048196', '5073468', '3689686', '4463981', '5381770', '3101364', '3305974', '2621409', '4872957', '3976659', '4221004', '3806431', '5469286', '280705', '4283867', '3908486']\n",
      "10.869550589720408\n"
     ]
    }
   ],
   "source": [
    "dynamodb_resource = boto3.resource('dynamodb', region_name='us-east-1')\n",
    "table = dynamodb_resource.Table('demographics')\n",
    "\n",
    "start_time = time.time()\n",
    "\n",
    "response = table.scan()\n",
    "\n",
    "pmcids_list = []\n",
    "for d in response['Items']:\n",
    "    pmcids_list.append(d['pmcid'])\n",
    "\n",
    "while 'LastEvaluatedKey' in response:\n",
    "    response = table.scan(ExclusiveStartKey=response['LastEvaluatedKey'])\n",
    "    for d in response['Items']:\n",
    "        pmcids_list.append(d['pmcid'])\n",
    "\n",
    "    \n",
    "elapsed_time = (time.time() - start_time) / 60.\n",
    "\n",
    "print(len(pmcids_list))\n",
    "print(pmcids_list[:20])\n",
    "print (elapsed_time)"
   ]
  },
  {
   "cell_type": "code",
   "execution_count": 6,
   "metadata": {},
   "outputs": [
    {
     "name": "stdout",
     "output_type": "stream",
     "text": [
      "297786\n",
      "10.869550589720408\n",
      "['5405840', '2891753', '3453493', '3463035', '5048196', '5073468', '3689686', '4463981', '5381770', '3101364', '3305974', '2621409', '4872957', '3976659', '4221004', '3806431', '5469286', '280705', '4283867', '3908486']\n"
     ]
    }
   ],
   "source": [
    "print(len(pmcids_list))\n",
    "print (elapsed_time)\n",
    "\n",
    "print(pmcids_list[:20])"
   ]
  },
  {
   "cell_type": "code",
   "execution_count": 7,
   "metadata": {},
   "outputs": [
    {
     "name": "stdout",
     "output_type": "stream",
     "text": [
      "['3778263', '4473156', '5771285', '4264693', '4210730']\n",
      "297876\n"
     ]
    }
   ],
   "source": [
    "targetarticles_files_list = glob.glob('/home/dave/datapubmed/targetarticles/PMC*.nxml')\n",
    "targetarticles_files_list = [i[40:] for i  in targetarticles_files_list  ]\n",
    "targetarticles_files_list = [i[:-5] for i  in targetarticles_files_list  ]\n",
    "\n",
    "print(targetarticles_files_list[:5])\n",
    "print(len(targetarticles_files_list))"
   ]
  },
  {
   "cell_type": "code",
   "execution_count": 72,
   "metadata": {
    "scrolled": true
   },
   "outputs": [
    {
     "name": "stdout",
     "output_type": "stream",
     "text": [
      "297786\n",
      "['4944317', '4785788', '4760072', '4828621', '4976526', '2228184', '3008007', '2775678', '5643429', '4633648', '4754267', '5504832', '3585216', '5779605', '5743172', '5618110', '4262386', '2604886', '5089533', '5850733', '4305571', '4210062', '5723000', '2719593', '3382468', '4482050', '4310883', '3809218', '2365166', '2010328', '4625716', '5714616', '4093809', '4223617', '5361878', '4928134', '5154172', '5459830', '5299488', '5064824', '1785373', '3893583', '5665161', '3977546', '5168601', '5629297', '5102273', '4906605', '2807149', '5807467', '3632158', '4508277', '3554429', '3282277', '3965122', '4902190', '2977546', '4018267', '5025218', '4413803', '5651857', '3241335', '5083722', '5602838', '3902330', '4548310', '4418041', '5597500', '3514223', '4763193', '3335638', '3921260', '4919485', '1552061', '5837366', '3876307', '3235297', '5733425', '3899261', '4061537', '3599633', '3794630', '5512524', '4883761', '5005760', '5735637', '4327595', '5579465', '5154137', '4444136']\n"
     ]
    }
   ],
   "source": [
    "overlap = list(set.intersection(set(targetarticles_files_list),set(pmcids_list)))\n",
    "print(len(overlap))\n",
    "missing = list(set(targetarticles_files_list)-set(pmcids_list))\n",
    "print(missing)"
   ]
  },
  {
   "cell_type": "code",
   "execution_count": 73,
   "metadata": {
    "collapsed": true
   },
   "outputs": [],
   "source": [
    "from shutil import copyfile\n",
    "\n",
    "source = 'targetarticles'\n",
    "destination = 'missing'\n",
    "\n",
    "for fh in missing:\n",
    "    copyfile('./'+ source +'/PMC' + fh +'.nxml', './'+ destination +'/PMC' + fh +'.nxml')"
   ]
  },
  {
   "cell_type": "markdown",
   "metadata": {},
   "source": [
    "Check if the item has the \"errorstatus\" attribute, and if so, save its PMCID to a list\n",
    "----"
   ]
  },
  {
   "cell_type": "code",
   "execution_count": 8,
   "metadata": {},
   "outputs": [
    {
     "name": "stdout",
     "output_type": "stream",
     "text": [
      "26229\n",
      "['2977546', '3008007', '3977546', '5005760', '4444136', '5459830', '3965122', '5512524', '5807467', '2775678', '4872957', '3920516', '3648317', '5872926', '1199527', '3685044', '3275215', '5165073', '1513380', '3918149']\n",
      "12.374004781246185\n"
     ]
    },
    {
     "data": {
      "text/plain": [
       "'\\n249291\\n9.458658456802368\\n'"
      ]
     },
     "execution_count": 8,
     "metadata": {},
     "output_type": "execute_result"
    }
   ],
   "source": [
    "dynamodb_resource = boto3.resource('dynamodb', region_name='us-east-1')\n",
    "table = dynamodb_resource.Table('demographics')\n",
    "\n",
    "start_time = time.time()\n",
    "\n",
    "response = table.scan()\n",
    "\n",
    "errorstatus = []\n",
    "for d in response['Items']:\n",
    "    if 'errorStatus' in d.keys():\n",
    "        if (d['errorStatus'] == 'not randomized clinical trials'):\n",
    "            errorstatus.append(d['pmcid'])\n",
    "\n",
    "while 'LastEvaluatedKey' in response:\n",
    "    response = table.scan(ExclusiveStartKey=response['LastEvaluatedKey'])\n",
    "    for d in response['Items']:\n",
    "        if 'errorStatus' in d.keys():\n",
    "            if (d['errorStatus'] == 'not randomized clinical trials'):\n",
    "                errorstatus.append(d['pmcid'])\n",
    "\n",
    "    \n",
    "\n",
    "elapsed_time = (time.time() - start_time) / 60.\n",
    "\n",
    "print(len(errorstatus))\n",
    "print(errorstatus[:20])\n",
    "print (elapsed_time)\n",
    "\n",
    "'''\n",
    "249291\n",
    "9.458658456802368\n",
    "'''"
   ]
  },
  {
   "cell_type": "code",
   "execution_count": 9,
   "metadata": {
    "collapsed": true
   },
   "outputs": [],
   "source": [
    "jsondata = json.dumps(missing)\n",
    "f = open(\"missing.json\",\"w\")\n",
    "f.write(jsondata)\n",
    "f.close()"
   ]
  },
  {
   "cell_type": "code",
   "execution_count": 33,
   "metadata": {},
   "outputs": [
    {
     "name": "stdout",
     "output_type": "stream",
     "text": [
      "72722\n",
      "12.356586949030559\n"
     ]
    },
    {
     "data": {
      "text/plain": [
       "'\\n249291\\n9.458658456802368\\n'"
      ]
     },
     "execution_count": 33,
     "metadata": {},
     "output_type": "execute_result"
    }
   ],
   "source": [
    "dynamodb_resource = boto3.resource('dynamodb', region_name='us-east-1')\n",
    "table = dynamodb_resource.Table('demographics')\n",
    "\n",
    "start_time = time.time()\n",
    "\n",
    "response = table.scan()\n",
    "\n",
    "numwithsentences = 0 \n",
    "for d in response['Items']:\n",
    "    if 'table1' in d.keys():\n",
    "        numwithsentences += 1\n",
    "\n",
    "while 'LastEvaluatedKey' in response:\n",
    "    response = table.scan(ExclusiveStartKey=response['LastEvaluatedKey'])\n",
    "    for d in response['Items']:\n",
    "        if 'table1' in d.keys():\n",
    "            numwithsentences += 1\n",
    "\n",
    "    \n",
    "\n",
    "elapsed_time = (time.time() - start_time) / 60.\n",
    "\n",
    "print(numwithsentences)\n",
    "print (elapsed_time)\n",
    "\n",
    "'''\n",
    "249291\n",
    "9.458658456802368\n",
    "'''"
   ]
  },
  {
   "cell_type": "code",
   "execution_count": 112,
   "metadata": {
    "collapsed": true
   },
   "outputs": [],
   "source": [
    "zika_pmcid = ['5870999', '5804079', '5812309', '5800699', '5778641', '5712121', '5712781', '5707826', '5741275', '5640845', '5636051', '5576130', '5718785', '5559635', '5552158', '5890528', '5645715', '5484518', '5490820', '5853302', '5506587', '5443526', '5436874', '5414005', '5405794', '5457678', '5357690', '5319961', '5225411', '5360567', '5322287', '5245776', '5240929', '5165716', '5165082', '5210549', '5091912', '5105876', '5072634', '5137455', '5055662', '5034338', '5078599', '4989439', '4988764', '4980036', '4947515', '5124348', '4962217', '4915778', '4794306']"
   ]
  },
  {
   "cell_type": "code",
   "execution_count": 61,
   "metadata": {},
   "outputs": [
    {
     "name": "stdout",
     "output_type": "stream",
     "text": [
      "0.09643032153447469\n"
     ]
    },
    {
     "data": {
      "text/plain": [
       "'\\n249291\\n9.458658456802368\\n'"
      ]
     },
     "execution_count": 61,
     "metadata": {},
     "output_type": "execute_result"
    }
   ],
   "source": [
    "from boto3.dynamodb.conditions import Key, Attr\n",
    "\n",
    "dynamodb_resource = boto3.resource('dynamodb', region_name='us-east-1')\n",
    "table = dynamodb_resource.Table('demographics')\n",
    "\n",
    "start_time = time.time()\n",
    "\n",
    "answer_zika = []\n",
    "for dd in zika_pmcid:\n",
    "    response = table.query(\n",
    "        KeyConditionExpression=Key('pmcid').eq(dd)\n",
    "    )\n",
    "    items = response['Items']\n",
    "    answer_zika.append(items)\n",
    "\n",
    "elapsed_time = (time.time() - start_time) / 60.\n",
    "\n",
    "print (elapsed_time)\n",
    "\n",
    "'''\n",
    "249291\n",
    "9.458658456802368\n",
    "'''"
   ]
  },
  {
   "cell_type": "code",
   "execution_count": null,
   "metadata": {
    "collapsed": true
   },
   "outputs": [],
   "source": [
    "dynamodb_resource = boto3.resource('dynamodb', region_name='us-east-1')\n",
    "table = dynamodb_resource.Table('demographics')\n",
    "\n",
    "numwithsentences = 0 \n",
    "for dd in zika_pmcid[:20]:\n",
    "    response = table.query(\n",
    "        KeyConditionExpression=Key('pmcid').eq(dd)\n",
    "    )\n",
    "   # if 'sentences' in response['Items'].keys():\n",
    "    print(response['Items'])\n",
    "    numwithsentences += 1"
   ]
  },
  {
   "cell_type": "code",
   "execution_count": 66,
   "metadata": {
    "collapsed": true
   },
   "outputs": [],
   "source": [
    "jsondata = json.dumps(answer_zika)\n",
    "f = open(\"zika_query.json\",\"w\")\n",
    "f.write(jsondata)\n",
    "f.close()"
   ]
  },
  {
   "cell_type": "markdown",
   "metadata": {},
   "source": [
    "Scan the table for all items processed since a date\n",
    "----"
   ]
  },
  {
   "cell_type": "code",
   "execution_count": null,
   "metadata": {
    "collapsed": true
   },
   "outputs": [],
   "source": [
    "from boto3.dynamodb.conditions import Key, Attr\n",
    "\n",
    "dynamodb_resource = boto3.resource('dynamodb', region_name='us-east-1')\n",
    "table = dynamodb_resource.Table('demographics')\n",
    "\n",
    "start_time = time.time()\n",
    "\n",
    "response = table.scan(\n",
    "    FilterExpression=Attr('date_processed').gt('2018-04-29')\n",
    ")\n",
    "items = response['Items']\n",
    "pprint(items)\n",
    "\n",
    "elapsed_time = (time.time() - start_time) / 60.\n",
    "\n",
    "print (elapsed_time)"
   ]
  },
  {
   "cell_type": "markdown",
   "metadata": {},
   "source": [
    "### Do it with the page return"
   ]
  },
  {
   "cell_type": "code",
   "execution_count": 69,
   "metadata": {},
   "outputs": [
    {
     "name": "stdout",
     "output_type": "stream",
     "text": [
      "1.492504096031189\n"
     ]
    },
    {
     "data": {
      "text/plain": [
       "'\\n249291\\n9.458658456802368\\n'"
      ]
     },
     "execution_count": 69,
     "metadata": {},
     "output_type": "execute_result"
    }
   ],
   "source": [
    "from boto3.dynamodb.conditions import Key, Attr\n",
    "\n",
    "now = datetime.now().strftime(\"%Y-%m-%d\")\n",
    "date_1 = datetime.strptime(now, \"%Y-%m-%d\")\n",
    "now = str(now)\n",
    "since_date = date_1 + timedelta(days=-1)\n",
    "since_date = str(since_date.strftime(\"%Y-%m-%d\"))\n",
    "\n",
    "dynamodb_resource = boto3.resource('dynamodb', region_name='us-east-1')\n",
    "table = dynamodb_resource.Table('demographics')\n",
    "\n",
    "start_time = time.time()\n",
    "\n",
    "response = table.scan(\n",
    "    FilterExpression=Attr('date_processed').gt(since_date)\n",
    ")\n",
    "\n",
    "numtotal = 0 \n",
    "numwithsentences = 0 \n",
    "numwithtables = 0 \n",
    "for d in response['Items']:\n",
    "    numtotal += 1\n",
    "    if 'table1' in d.keys():\n",
    "        numwithtables += 1\n",
    "    if 'sentences' in d.keys():\n",
    "        numwithsentences += 1\n",
    "        \n",
    "while 'LastEvaluatedKey' in response:\n",
    "    response = table.scan(\n",
    "        FilterExpression=Attr('date_processed').gt(since_date),\n",
    "        ExclusiveStartKey=response['LastEvaluatedKey']\n",
    "    )\n",
    "    for d in response['Items']:\n",
    "        numtotal += 1\n",
    "        if 'table1' in d.keys():\n",
    "            numwithtables += 1\n",
    "        if 'sentences' in d.keys():\n",
    "            numwithsentences += 1\n",
    "\n",
    "elapsed_time = (time.time() - start_time) / 60.\n",
    "\n",
    "print (elapsed_time)"
   ]
  },
  {
   "cell_type": "code",
   "execution_count": 70,
   "metadata": {},
   "outputs": [
    {
     "name": "stdout",
     "output_type": "stream",
     "text": [
      "3416\n",
      "0\n",
      "1018\n"
     ]
    }
   ],
   "source": [
    "print(numtotal)\n",
    "print(numwithsentences)\n",
    "print(numwithtables)"
   ]
  },
  {
   "cell_type": "code",
   "execution_count": null,
   "metadata": {
    "collapsed": true
   },
   "outputs": [],
   "source": [
    "dynamodb_resource = boto3.resource('dynamodb', region_name='us-east-1')\n",
    "table = dynamodb_resource.Table('demographics')\n",
    "\n",
    "def get_table_metadata(table_name):\n",
    "    \"\"\"\n",
    "    Get some metadata about chosen table.\n",
    "    \"\"\"\n",
    "    table = dynamodb_resource.Table(table_name)\n",
    "\n",
    "    return {\n",
    "        'num_items': table.item_count,\n",
    "        'primary_key_name': table.key_schema[0],\n",
    "        'status': table.table_status,\n",
    "        'bytes_size': table.table_size_bytes,\n",
    "        'global_secondary_indices': table.global_secondary_indexes\n",
    "    }\n",
    "\n",
    "demographics_metata = get_table_metadata('demographics')\n",
    "pprint(demographics_metata)"
   ]
  },
  {
   "cell_type": "code",
   "execution_count": 81,
   "metadata": {},
   "outputs": [
    {
     "data": {
      "text/plain": [
       "{'ETag': '\"290af6e241e67db5c2600b2923b176ec\"',\n",
       " 'ResponseMetadata': {'HTTPHeaders': {'content-length': '0',\n",
       "   'date': 'Tue, 01 May 2018 17:12:52 GMT',\n",
       "   'etag': '\"290af6e241e67db5c2600b2923b176ec\"',\n",
       "   'server': 'AmazonS3',\n",
       "   'x-amz-id-2': 'XM1Jcku/gk9qRbEWtBYWWqLSEyg0mVqfCNsOVxkjJjrRqBzfPxOc8q1mOKrAS/qnhGQ6lWKPJdo=',\n",
       "   'x-amz-request-id': '465AD98A30740A5D'},\n",
       "  'HTTPStatusCode': 200,\n",
       "  'HostId': 'XM1Jcku/gk9qRbEWtBYWWqLSEyg0mVqfCNsOVxkjJjrRqBzfPxOc8q1mOKrAS/qnhGQ6lWKPJdo=',\n",
       "  'RequestId': '465AD98A30740A5D',\n",
       "  'RetryAttempts': 0}}"
      ]
     },
     "execution_count": 81,
     "metadata": {},
     "output_type": "execute_result"
    }
   ],
   "source": [
    "dynamodb_resource = boto3.resource('dynamodb', region_name='us-east-1')\n",
    "table = dynamodb_resource.Table('demographics')\n",
    "\n",
    "jsondata = {\n",
    "    \"update\": '2018-04-29', \n",
    "    \"total_items\": table.item_count,\n",
    "    \"total_updates\": numtotal,\n",
    "    \"with_sentences\": numwithsentences,\n",
    "    \"with_tables\": numwithtables\n",
    "}\n",
    "\n",
    "\n",
    "s3bucketfile = \"update_stats.json\"\n",
    "s3bucket = \"pubminer-upload-test\"\n",
    "s3_resource = boto3.resource('s3')\n",
    "obj = s3_resource.Object(s3bucket,s3bucketfile)\n",
    "obj.put(Body=json.dumps(jsondata), ACL='public-read')"
   ]
  },
  {
   "cell_type": "code",
   "execution_count": 54,
   "metadata": {},
   "outputs": [
    {
     "name": "stdout",
     "output_type": "stream",
     "text": [
      "[]\n",
      "0.008143361409505208\n"
     ]
    },
    {
     "data": {
      "text/plain": [
       "'\\n249291\\n9.458658456802368\\n'"
      ]
     },
     "execution_count": 54,
     "metadata": {},
     "output_type": "execute_result"
    }
   ],
   "source": [
    "from boto3.dynamodb.conditions import Key, Attr\n",
    "\n",
    "dynamodb_resource = boto3.resource('dynamodb', region_name='us-east-1')\n",
    "table = dynamodb_resource.Table('demographics')\n",
    "\n",
    "start_time = time.time()\n",
    "\n",
    "response = table.scan(\n",
    "    FilterExpression=Key('pmcid').eq('5812309')\n",
    ")\n",
    "items = response['Items']\n",
    "print(items)\n",
    "\n",
    "    \n",
    "\n",
    "elapsed_time = (time.time() - start_time) / 60.\n",
    "\n",
    "print (elapsed_time)\n",
    "\n",
    "'''\n",
    "249291\n",
    "9.458658456802368\n",
    "'''"
   ]
  },
  {
   "cell_type": "code",
   "execution_count": null,
   "metadata": {
    "collapsed": true
   },
   "outputs": [],
   "source": [
    "from boto3.dynamodb.conditions import Key, Attr\n",
    "\n",
    "dynamodb_resource = boto3.resource('dynamodb', region_name='us-east-1')\n",
    "table = dynamodb_resource.Table('demographics')\n",
    "\n",
    "start_time = time.time()\n",
    "\n",
    "zika_list = [{\"S\": d} for d in zika_pmcid]\n",
    "\n",
    "response = table.query(\n",
    "    IndexName='pmcid',\n",
    "    KeyConditions={\n",
    "        \"pmcid\":{\n",
    "            \"ComparisonOperator\":'IN',\n",
    "            \"AttributeValueList\": [{'S': '5870999'},  {'S': '5804079'}, {'S': '5812309'}]  #zika_list\n",
    "        }\n",
    "    }\n",
    ")\n",
    "items = response['Items']\n",
    "print(items)\n",
    "\n",
    "    \n",
    "\n",
    "elapsed_time = (time.time() - start_time) / 60.\n",
    "\n",
    "print (elapsed_time)\n",
    "\n",
    "'''\n",
    "249291\n",
    "9.458658456802368\n",
    "'''"
   ]
  },
  {
   "cell_type": "code",
   "execution_count": null,
   "metadata": {
    "collapsed": true
   },
   "outputs": [],
   "source": [
    "from boto3.dynamodb.conditions import Key, Attr\n",
    "\n",
    "dynamodb_resource = boto3.resource('dynamodb', region_name='us-east-1')\n",
    "table = dynamodb_resource.Table('demographics')\n",
    "\n",
    "start_time = time.time()\n",
    "\n",
    "zika_list = [{\"S\": d} for d in zika_pmcid]\n",
    "\n",
    "response = table.query(\n",
    "    IndexName='pmcid',\n",
    "    ExpressionAttributeValues={\n",
    "        \"pmcid\":{\n",
    "            \"ComparisonOperator\":'IN',\n",
    "            \"AttributeValueList\": [{'S': '5870999'},  {'S': '5804079'}, {'S': '5812309'}]  #zika_list\n",
    "        }\n",
    "    }\n",
    ")\n",
    "items = response['Items']\n",
    "print(items)\n",
    "\n",
    "    \n",
    "\n",
    "elapsed_time = (time.time() - start_time) / 60.\n",
    "\n",
    "print (elapsed_time)\n",
    "\n",
    "'''\n",
    "249291\n",
    "9.458658456802368\n",
    "'''"
   ]
  },
  {
   "cell_type": "markdown",
   "metadata": {},
   "source": [
    "## Query items by PMCID key"
   ]
  },
  {
   "cell_type": "code",
   "execution_count": null,
   "metadata": {
    "collapsed": true
   },
   "outputs": [],
   "source": [
    "dynamodb_resource = boto3.resource('dynamodb', region_name='us-east-1')\n",
    "table = dynamodb_resource.Table('demographics')\n",
    "\n",
    "request = {\n",
    "    'ExpressionAttributeNames': {\n",
    "        '#n0': 'hash_key',\n",
    "        '#n1': 'range_key'\n",
    "    },\n",
    "    'ExpressionAttributeValues': {\n",
    "        ':v0': {'S': MY_HASH_KEY},\n",
    "        ':v1': {'N': GT_RANGE_KEY}\n",
    "    },\n",
    "    'KeyConditionExpression': '(#n0 = :v0) AND (#n1 > :v1)',\n",
    "    'TableName': TABLE_NAME\n",
    "}\n",
    "response = table.query(**request)"
   ]
  },
  {
   "cell_type": "markdown",
   "metadata": {},
   "source": [
    "[back-to-top](#back-to-top)\n",
    "<a id='update_table_index'></a>\n",
    "\n",
    "\n",
    "update the `demographics` table, like delete an index, modify throughput\n",
    "----"
   ]
  },
  {
   "cell_type": "code",
   "execution_count": null,
   "metadata": {
    "collapsed": true
   },
   "outputs": [],
   "source": [
    "dynamodb_client = boto3.client('dynamodb', region_name='us-east-1')\n",
    "\n",
    "response = dynamodb_client.update_table(\n",
    "    #ProvisionedThroughput={\n",
    "    #    'ReadCapacityUnits': 10,\n",
    "    #    'WriteCapacityUnits': 10,\n",
    "    #},\n",
    "    GlobalSecondaryIndexUpdates=[\n",
    "        {\n",
    "            'Delete': {\n",
    "                'IndexName': 'pmid'\n",
    "            }\n",
    "        },\n",
    "    ],\n",
    "    TableName='demographics_alt',\n",
    ")"
   ]
  },
  {
   "cell_type": "markdown",
   "metadata": {},
   "source": [
    "[back-to-top](#back-to-top)\n",
    "<a id='delete_table'></a>\n",
    "\n",
    "\n",
    "Delete the `demographics` table\n",
    "----\n"
   ]
  },
  {
   "cell_type": "code",
   "execution_count": 8,
   "metadata": {},
   "outputs": [
    {
     "name": "stdout",
     "output_type": "stream",
     "text": [
      "Deleted table\n"
     ]
    }
   ],
   "source": [
    "dynamodb_client = boto3.client('dynamodb', region_name='us-east-1')\n",
    "\n",
    "try:\n",
    "    dynamodb_client.delete_table(TableName='demographics_alt')\n",
    "    print('Deleted table')\n",
    "        \n",
    "except dynamodb_client.exceptions.ResourceNotFoundException:\n",
    "    print(\"Table does not exist - cannot delete it\")\n",
    "    pass\n",
    "except OSError as err:\n",
    "    print(\"OS error: {0}\".format(err))\n",
    "except ValueError:\n",
    "    print(\"Could not convert data to an integer.\")\n",
    "except:\n",
    "    print(\"Unexpected error:\", sys.exc_info()[0])\n",
    "    raise"
   ]
  },
  {
   "cell_type": "markdown",
   "metadata": {},
   "source": [
    "[back-to-top](#back-to-top)\n",
    "<a id='metadata'></a>\n",
    "\n",
    "*Metadata table  `demographics_meta`*\n",
    "=====\n"
   ]
  },
  {
   "cell_type": "markdown",
   "metadata": {},
   "source": [
    "<a id='create_meta'></a>\n",
    "\n",
    "\n",
    "Creation of the metadata table called `demographics_meta`\n",
    "----\n",
    "\n",
    "-----"
   ]
  },
  {
   "cell_type": "code",
   "execution_count": 110,
   "metadata": {},
   "outputs": [
    {
     "name": "stdout",
     "output_type": "stream",
     "text": [
      "Table status: CREATING\n",
      "Item count: 0\n"
     ]
    }
   ],
   "source": [
    "dynamodb_client = boto3.client('dynamodb', region_name='us-east-1')\n",
    "\n",
    "try:\n",
    "    table = dynamodb_client.create_table(\n",
    "        TableName='demographics_meta',\n",
    "        KeySchema=[\n",
    "            {\n",
    "                'AttributeName': 'source', \n",
    "                'KeyType': 'HASH'\n",
    "            }\n",
    "        ], \n",
    "        AttributeDefinitions=[\n",
    "            {\n",
    "                'AttributeName': 'source', \n",
    "                'AttributeType': 'S'\n",
    "            },\n",
    "        ], \n",
    "        ProvisionedThroughput={\n",
    "            'ReadCapacityUnits': 5, \n",
    "            'WriteCapacityUnits': 5\n",
    "        },\n",
    "        StreamSpecification={\n",
    "        'StreamEnabled': True,\n",
    "        'StreamViewType': 'NEW_AND_OLD_IMAGES'\n",
    "        }\n",
    "    )\n",
    "\n",
    "    dynamodb_client.get_waiter('table_exists').wait(TableName='demographics_meta')\n",
    "    print(\"Table status:\",  table['TableDescription']['TableStatus'])\n",
    "    print(\"Item count:\", table['TableDescription']['ItemCount'])\n",
    "    \n",
    "except dynamodb_client.exceptions.ResourceInUseException:\n",
    "    print(\"Table in use error - do you really want to recreate the table?\")\n",
    "    pass\n",
    "except OSError as err:\n",
    "    print(\"OS error: {0}\".format(err))\n",
    "except ValueError:\n",
    "    print(\"Could not convert data to an integer.\")\n",
    "except:\n",
    "    print(\"Unexpected error:\", sys.exc_info()[0])\n",
    "    raise"
   ]
  },
  {
   "cell_type": "markdown",
   "metadata": {},
   "source": [
    "[back-to-top](#back-to-top)\n",
    "<a id='populate_meta'></a>\n",
    "\n",
    "\n",
    "Populate the table with new metadata items\n",
    "------\n",
    "\n",
    "----\n"
   ]
  },
  {
   "cell_type": "markdown",
   "metadata": {},
   "source": [
    "## Populate from a list in memory"
   ]
  },
  {
   "cell_type": "code",
   "execution_count": null,
   "metadata": {
    "collapsed": true
   },
   "outputs": [],
   "source": [
    "dynamodb_client = boto3.client('dynamodb', region_name='us-east-1')\n",
    "now = datetime.now().strftime(\"%Y-%m-%d %H:%M:%S\")\n",
    "small_list_of_ids = [str(i) for i in range(20)]\n",
    "\n",
    "\n",
    "class DecimalEncoder(json.JSONEncoder):\n",
    "    def default(self, o):\n",
    "        if isinstance(o, decimal.Decimal):\n",
    "            if o % 1 > 0:\n",
    "                return float(o)\n",
    "            else:\n",
    "                return int(o)\n",
    "        return super(DecimalEncoder, self).default(o)\n",
    "    \n",
    "response = dynamodb_client.put_item(\n",
    "    Item={\n",
    "        'source': {\"S\": \"demographics\"},\n",
    "        'pmcids':{\"NS\": small_list_of_ids},\n",
    "        'items': {\"N\": decimal.Decimal(len(small_list_of_ids))},\n",
    "        'items_downloaded': {\"N\": str(len(small_list_of_ids))},\n",
    "        'date_updated': {\"S\": now} ,\n",
    "    },\n",
    "    TableName='demographics_meta',\n",
    ")"
   ]
  },
  {
   "cell_type": "markdown",
   "metadata": {},
   "source": [
    "## Populate from a list in a JSON file"
   ]
  },
  {
   "cell_type": "code",
   "execution_count": 61,
   "metadata": {
    "collapsed": true
   },
   "outputs": [],
   "source": [
    "jsondata = json.dumps(small_list_of_ids)\n",
    "f = open(\"small_list_of_ids.json\",\"w\")\n",
    "f.write(jsondata)\n",
    "f.close()"
   ]
  },
  {
   "cell_type": "code",
   "execution_count": 62,
   "metadata": {
    "collapsed": true
   },
   "outputs": [],
   "source": [
    "dynamodb_client = boto3.client('dynamodb', region_name='us-east-1')\n",
    "now = datetime.now().strftime(\"%Y-%m-%d %H:%M:%S\")\n",
    "#file_path = '/home/dave/datapubmed/'\n",
    "#input_file = file_path + \"inS3BucketIDs.json\"\n",
    "input_file = \"small_list_of_ids.json\"\n",
    "try:\n",
    "    with open(input_file) as json_file:\n",
    "        itemset = json.load(json_file)\n",
    "        response = dynamodb_client.put_item(\n",
    "            Item={\n",
    "               'source': {\"S\": \"saved_json\"},\n",
    "               'pmcids':{\"NS\": itemset},\n",
    "               'items': {\"N\": str(len(itemset))},\n",
    "               'date_updated': {\"S\": now} ,\n",
    "            },\n",
    "            TableName='demographics_meta',\n",
    "        )\n",
    "            \n",
    "except OSError as err:\n",
    "    print(\"OS error: {0}\".format(err))\n",
    "except ValueError:\n",
    "    print(\"Could not convert data to an integer.\")\n",
    "except:\n",
    "    print(\"Unexpected error:\", sys.exc_info()[0])\n",
    "    raise            "
   ]
  },
  {
   "cell_type": "markdown",
   "metadata": {},
   "source": [
    "[back-to-top](#back-to-top)\n",
    "<a id='query_meta'></a>\n",
    "\n",
    "\n",
    "Query the metadata table on attributes\n",
    "------\n",
    "\n",
    "----\n"
   ]
  },
  {
   "cell_type": "code",
   "execution_count": 64,
   "metadata": {},
   "outputs": [
    {
     "name": "stdout",
     "output_type": "stream",
     "text": [
      "{'Item': {'date_updated': '2018-04-09 21:36:15',\n",
      "          'items': Decimal('20'),\n",
      "          'pmcids': {Decimal('1785373'),\n",
      "                     Decimal('2977546'),\n",
      "                     Decimal('3514223'),\n",
      "                     Decimal('3554429'),\n",
      "                     Decimal('3809218'),\n",
      "                     Decimal('3893583'),\n",
      "                     Decimal('3921260'),\n",
      "                     Decimal('4061537'),\n",
      "                     Decimal('4093809'),\n",
      "                     Decimal('4210062'),\n",
      "                     Decimal('4310883'),\n",
      "                     Decimal('4763193'),\n",
      "                     Decimal('4785788'),\n",
      "                     Decimal('4906605'),\n",
      "                     Decimal('5102273'),\n",
      "                     Decimal('5405840'),\n",
      "                     Decimal('5504832'),\n",
      "                     Decimal('5651857'),\n",
      "                     Decimal('5743172'),\n",
      "                     Decimal('5837366')},\n",
      "          'source': 'demographics'},\n",
      " 'ResponseMetadata': {'HTTPHeaders': {'connection': 'keep-alive',\n",
      "                                      'content-length': '320',\n",
      "                                      'content-type': 'application/x-amz-json-1.0',\n",
      "                                      'date': 'Mon, 09 Apr 2018 21:37:43 GMT',\n",
      "                                      'server': 'Server',\n",
      "                                      'x-amz-crc32': '314382140',\n",
      "                                      'x-amzn-requestid': 'V92MAME5NK1VQNENQ6CIVCDJSNVV4KQNSO5AEMVJF66Q9ASUAAJG'},\n",
      "                      'HTTPStatusCode': 200,\n",
      "                      'RequestId': 'V92MAME5NK1VQNENQ6CIVCDJSNVV4KQNSO5AEMVJF66Q9ASUAAJG',\n",
      "                      'RetryAttempts': 0}}\n"
     ]
    }
   ],
   "source": [
    "dynamodb_resource = boto3.resource('dynamodb', region_name='us-east-1')\n",
    "table = dynamodb_resource.Table('demographics_meta')\n",
    "item_list = ['demographics']\n",
    "\n",
    "for i in range(len(item_list)):\n",
    "\n",
    "    mykey = item_list[i]\n",
    "    response = table.get_item(Key={'source': mykey})\n",
    "    pprint(response)"
   ]
  },
  {
   "cell_type": "markdown",
   "metadata": {},
   "source": [
    "[back-to-top](#back-to-top)\n",
    "<a id='delete_meta'></a>\n",
    "\n",
    "\n",
    "Delete the metadata table\n",
    "----\n"
   ]
  },
  {
   "cell_type": "code",
   "execution_count": 109,
   "metadata": {},
   "outputs": [
    {
     "name": "stdout",
     "output_type": "stream",
     "text": [
      "Deleted table\n"
     ]
    }
   ],
   "source": [
    "dynamodb_client = boto3.client('dynamodb', region_name='us-east-1')\n",
    "\n",
    "try:\n",
    "    dynamodb_client.delete_table(TableName='demographics_meta')\n",
    "    print('Deleted table')\n",
    "        \n",
    "except dynamodb_client.exceptions.ResourceNotFoundException:\n",
    "    print(\"Table does not exist - cannot delete it\")\n",
    "    pass\n",
    "except OSError as err:\n",
    "    print(\"OS error: {0}\".format(err))\n",
    "except ValueError:\n",
    "    print(\"Could not convert data to an integer.\")\n",
    "except:\n",
    "    print(\"Unexpected error:\", sys.exc_info()[0])\n",
    "    raise"
   ]
  }
 ],
 "metadata": {
  "kernelspec": {
   "display_name": "Python 3",
   "language": "python",
   "name": "python3"
  },
  "language_info": {
   "codemirror_mode": {
    "name": "ipython",
    "version": 3
   },
   "file_extension": ".py",
   "mimetype": "text/x-python",
   "name": "python",
   "nbconvert_exporter": "python",
   "pygments_lexer": "ipython3",
   "version": "3.6.4"
  }
 },
 "nbformat": 4,
 "nbformat_minor": 2
}
