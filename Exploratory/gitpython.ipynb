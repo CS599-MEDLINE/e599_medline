{
 "cells": [
  {
   "cell_type": "markdown",
   "metadata": {},
   "source": [
    "Notebook with commands to query and push to the GitHub repo\n",
    "===="
   ]
  },
  {
   "cell_type": "code",
   "execution_count": 4,
   "metadata": {},
   "outputs": [
    {
     "name": "stdout",
     "output_type": "stream",
     "text": [
      "Repo at None successfully loaded.\n",
      "Repo description: Unnamed repository; edit this file 'description' to name the repository.\n",
      "Repo active branch is master\n",
      "Remote named \"origin\" with URL \"https://github.com/CS599-MEDLINE/e599_medline.git\"\n",
      "Last commit for repo is aa03345b6681c62d5c126d92a8624897ea1d5ace.\n",
      "----\n",
      "aa03345b6681c62d5c126d92a8624897ea1d5ace\n",
      "\"Update to populate \"errorStatus\" rows if articles encountered is clearly not a randomized clinical trial or other errors.\" by Bin Gao (bingao@g.harvard.edu)\n",
      "2018-04-08 16:35:06-04:00\n",
      "count: 22 and size: 330\n",
      "----\n",
      "8a06be5183363dad50d261b3ad0646fb26dfe60a\n",
      "\"Update to use lastKeyEvaluated.\" by Bin Gao (bingao@g.harvard.edu)\n",
      "2018-04-07 22:52:16-04:00\n",
      "count: 21 and size: 240\n",
      "----\n",
      "d5aefe962e5360371d8a29703fb0240647533776\n",
      "\"Update dynamodb with sentences first check-in.\" by Bin Gao (bingao@g.harvard.edu)\n",
      "2018-04-07 15:11:04-04:00\n",
      "count: 20 and size: 255\n",
      "----\n",
      "c1d806e87084034e5828727a7dc24efefcb1ef28\n",
      "\"Add com.amazonaws dependencies.\" by Bin Gao (bingao@g.harvard.edu)\n",
      "2018-04-07 12:08:17-04:00\n",
      "count: 19 and size: 240\n",
      "----\n",
      "9487d6919d42f649eea386ddacfb7e84e8087179\n",
      "\"Add the ability to write the top 10 sentences into the postgresql database.\" by Bin Gao (bingao@g.harvard.edu)\n",
      "2018-03-30 23:17:40-04:00\n",
      "count: 18 and size: 284\n"
     ]
    }
   ],
   "source": [
    "# %load read_repo.py\n",
    "import os\n",
    "from git import Repo\n",
    "\n",
    "\n",
    "COMMITS_TO_PRINT = 5\n",
    "\n",
    "\n",
    "def print_commit(commit):\n",
    "    print('----')\n",
    "    print(str(commit.hexsha))\n",
    "    print(\"\\\"{}\\\" by {} ({})\".format(commit.summary,\n",
    "                                     commit.author.name,\n",
    "                                     commit.author.email))\n",
    "    print(str(commit.authored_datetime))\n",
    "    print(str(\"count: {} and size: {}\".format(commit.count(),\n",
    "                                              commit.size)))\n",
    "\n",
    "\n",
    "def print_repository(repo):\n",
    "    print('Repo description: {}'.format(repo.description))\n",
    "    print('Repo active branch is {}'.format(repo.active_branch))\n",
    "    for remote in repo.remotes:\n",
    "        print('Remote named \"{}\" with URL \"{}\"'.format(remote, remote.url))\n",
    "    print('Last commit for repo is {}.'.format(str(repo.head.commit.hexsha)))\n",
    "\n",
    "\n",
    "if __name__ == \"__main__\":\n",
    "    repo_path = os.getenv('GIT_REPO_PATH')\n",
    "    # Repo object used to programmatically interact with Git repositories\n",
    "    repo = Repo(repo_path)\n",
    "    # check that the repository loaded correctly\n",
    "    if not repo.bare:\n",
    "        print('Repo at {} successfully loaded.'.format(repo_path))\n",
    "        print_repository(repo)\n",
    "        # create list of commits then print some of them to stdout\n",
    "        commits = list(repo.iter_commits('master'))[:COMMITS_TO_PRINT]\n",
    "        for commit in commits:\n",
    "            print_commit(commit)\n",
    "            pass\n",
    "    else:\n",
    "        print('Could not load repository at {} :('.format(repo_path))\n"
   ]
  },
  {
   "cell_type": "code",
   "execution_count": null,
   "metadata": {},
   "outputs": [],
   "source": []
  },
  {
   "cell_type": "code",
   "execution_count": null,
   "metadata": {},
   "outputs": [],
   "source": []
  },
  {
   "cell_type": "code",
   "execution_count": null,
   "metadata": {},
   "outputs": [],
   "source": []
  }
 ],
 "metadata": {
  "kernelspec": {
   "display_name": "Python 3",
   "language": "python",
   "name": "python3"
  },
  "language_info": {
   "codemirror_mode": {
    "name": "ipython",
    "version": 3
   },
   "file_extension": ".py",
   "mimetype": "text/x-python",
   "name": "python",
   "nbconvert_exporter": "python",
   "pygments_lexer": "ipython3",
   "version": "3.5.4"
  }
 },
 "nbformat": 4,
 "nbformat_minor": 2
}
